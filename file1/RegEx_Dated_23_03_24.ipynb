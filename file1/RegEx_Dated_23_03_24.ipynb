{
  "nbformat": 4,
  "nbformat_minor": 0,
  "metadata": {
    "colab": {
      "provenance": []
    },
    "kernelspec": {
      "name": "python3",
      "display_name": "Python 3"
    },
    "language_info": {
      "name": "python"
    }
  },
  "cells": [
    {
      "cell_type": "code",
      "source": [
        "## Creating a basic function to check the pattern in the string.\n",
        "\n",
        "## Have used re.search as it is not mentioned in the question whether the pattern needs to be present from the start of the string or not.\n",
        "## re.match tries to find the pattern from the start of the string whereas re.search finds the pattern anywhere in the string.\n",
        "\n",
        "import re\n",
        "\n",
        "def pattern_checker(input_string, input_pattern):\n",
        "  if re.search(input_pattern, input_string):\n",
        "    return True\n",
        "\n",
        "  else:\n",
        "    return False"
      ],
      "metadata": {
        "id": "qI_XvVkbRoTa"
      },
      "execution_count": 83,
      "outputs": []
    },
    {
      "cell_type": "code",
      "execution_count": 84,
      "metadata": {
        "id": "87H5j23q5IsJ",
        "colab": {
          "base_uri": "https://localhost:8080/"
        },
        "outputId": "6d4cc5ed-c5ac-4019-eebf-a1c66a62e875"
      },
      "outputs": [
        {
          "output_type": "stream",
          "name": "stdout",
          "text": [
            "False\n",
            "True\n",
            "False\n"
          ]
        }
      ],
      "source": [
        "## Question 1- Write a RegEx pattern in python program to check that a string contains only a certain set of characters (in this case a-z, A-Z and 0-9).\n",
        "\n",
        "input_pattern = r'^[a-zA-Z0-9]+$'\n",
        "input_string = \"Lets play a game.\" # Contains whitespaces hence the string doesn't match with the pattern\n",
        "\n",
        "output_Q1 = pattern_checker(input_string, input_pattern )\n",
        "print(output_Q1)\n",
        "\n",
        "input_pattern = r'^[a-zA-Z0-9]+$'\n",
        "input_string = \"Hello123456\"  # Matches the pattern as the string only contains Capital or small cased letters and numbers.\n",
        "\n",
        "output_Q1 = pattern_checker(input_string,input_pattern )\n",
        "print(output_Q1)\n",
        "\n",
        "input_pattern = r'^[a-zA-Z0-9]+$'\n",
        "input_string = \"Hello@123456\"  #  Does not match as the string has special characters like '@'.\n",
        "\n",
        "output_Q1 = pattern_checker(input_string,input_pattern )\n",
        "print(output_Q1)"
      ]
    },
    {
      "cell_type": "code",
      "source": [
        "## Question 2- Write a RegEx pattern that matches a string that has an a followed by zero or more b's.\n",
        "\n",
        "input_pattern = r'ab*'\n",
        "input_string = 'a' # Matches 0 b's\n",
        "\n",
        "output_Q2 = pattern_checker(input_string, input_pattern )\n",
        "print(output_Q2)\n",
        "\n",
        "input_pattern = r'ab*'\n",
        "input_string = 'abbb' # Matches any number of b's\n",
        "\n",
        "output_Q2 = pattern_checker(input_string, input_pattern )\n",
        "print(output_Q2)\n",
        "\n",
        "input_pattern = r'ab*'\n",
        "input_string = 'bbbb' # Does not match if a is not present.\n",
        "\n",
        "output_Q2 = pattern_checker(input_string, input_pattern )\n",
        "print(output_Q2)\n"
      ],
      "metadata": {
        "colab": {
          "base_uri": "https://localhost:8080/"
        },
        "id": "peLaLVqHRlXL",
        "outputId": "15b9f5c1-8bcb-48cf-c1b0-d24ec89c4dc9"
      },
      "execution_count": 85,
      "outputs": [
        {
          "output_type": "stream",
          "name": "stdout",
          "text": [
            "True\n",
            "True\n",
            "False\n"
          ]
        }
      ]
    },
    {
      "cell_type": "code",
      "source": [
        "## Question 3-  Write a RegEx pattern that matches a string that has an a followed by one or more b's\n",
        "\n",
        "input_pattern = r'ab+'\n",
        "input_string = 'a' # Does not match as no b is present.\n",
        "\n",
        "output_Q3 = pattern_checker(input_string, input_pattern )\n",
        "print(output_Q3)\n",
        "\n",
        "input_pattern = r'ab+'\n",
        "input_string = 'abbb' # Matches as there are more than one b's.\n",
        "\n",
        "output_Q3 = pattern_checker(input_string, input_pattern )\n",
        "print(output_Q3)\n",
        "\n",
        "input_pattern = r'ab+'\n",
        "input_string = 'ab' # Matches as there is one b.\n",
        "\n",
        "output_Q3 = pattern_checker(input_string, input_pattern )\n",
        "print(output_Q3)"
      ],
      "metadata": {
        "colab": {
          "base_uri": "https://localhost:8080/"
        },
        "id": "sZBbyWofSl8L",
        "outputId": "f9f94c51-7bae-4641-9b0d-8b9d9feef5ef"
      },
      "execution_count": 86,
      "outputs": [
        {
          "output_type": "stream",
          "name": "stdout",
          "text": [
            "False\n",
            "True\n",
            "True\n"
          ]
        }
      ]
    },
    {
      "cell_type": "code",
      "source": [
        "## Question 4- Write a RegEx pattern that matches a string that has an a followed by zero or one 'b'.\n",
        "\n",
        "\n",
        "input_pattern = r'ab?'\n",
        "input_string = 'a' # Does not match as no b is present.\n",
        "\n",
        "output_Q4 = pattern_checker(input_string, input_pattern )\n",
        "print(output_Q4)\n",
        "\n",
        "input_pattern = r'ab?'\n",
        "input_string = 'b' # Doesn't match as there is no b.\n",
        "\n",
        "output_Q4 = pattern_checker(input_string, input_pattern )\n",
        "print(output_Q4)\n",
        "\n",
        "input_pattern = r'ab?'\n",
        "input_string = 'ab' # Matches as there is one b.\n",
        "\n",
        "output_Q4 = pattern_checker(input_string, input_pattern )\n",
        "print(output_Q4)"
      ],
      "metadata": {
        "colab": {
          "base_uri": "https://localhost:8080/"
        },
        "id": "9_Xev2IcWIo_",
        "outputId": "3608a540-fd9d-409e-a38a-540ecca44ef1"
      },
      "execution_count": 87,
      "outputs": [
        {
          "output_type": "stream",
          "name": "stdout",
          "text": [
            "True\n",
            "False\n",
            "True\n"
          ]
        }
      ]
    },
    {
      "cell_type": "code",
      "source": [
        "## Question 5- Write a RegEx pattern in python program that matches a string that has an a followed by three 'b'.\n",
        "\n",
        "input_pattern = r'ab{3}'\n",
        "input_string = 'a' # Does not match as no b is present.\n",
        "\n",
        "output_Q5 = pattern_checker(input_string, input_pattern )\n",
        "print(output_Q5)\n",
        "\n",
        "input_pattern = r'ab{3}'\n",
        "input_string = 'ab' # Doesn't match as there is only 1 b.\n",
        "\n",
        "output_Q5 = pattern_checker(input_string, input_pattern )\n",
        "print(output_Q5)\n",
        "\n",
        "input_pattern = r'ab{3}'\n",
        "input_string = 'abbb' # Matches as there are 3 b's.\n",
        "\n",
        "output_Q5 = pattern_checker(input_string, input_pattern )\n",
        "print(output_Q5)"
      ],
      "metadata": {
        "colab": {
          "base_uri": "https://localhost:8080/"
        },
        "id": "ZZjH_-Q4ICzF",
        "outputId": "6767c1ed-c504-4064-d653-d55bbde2a1dc"
      },
      "execution_count": 88,
      "outputs": [
        {
          "output_type": "stream",
          "name": "stdout",
          "text": [
            "False\n",
            "False\n",
            "True\n"
          ]
        }
      ]
    },
    {
      "cell_type": "code",
      "source": [
        "## Question 6- Write a RegEx pattern in python program that matches a string that has an a followed by two to three 'b'.\n",
        "\n",
        "input_pattern = r'ab{2,3}'\n",
        "input_string = 'a' # Does not match as no b is present.\n",
        "\n",
        "output_Q6 = pattern_checker(input_string, input_pattern )\n",
        "print(output_Q6)\n",
        "\n",
        "input_pattern = r'ab{2,3}'\n",
        "input_string = 'abb' # Does match as there are 2 b's.\n",
        "\n",
        "output_Q6 = pattern_checker(input_string, input_pattern )\n",
        "print(output_Q6)\n",
        "\n",
        "input_pattern = r'ab{2,3}'\n",
        "input_string = 'abbb' # Matches as there are 3 b's.\n",
        "\n",
        "output_Q6 = pattern_checker(input_string, input_pattern )\n",
        "print(output_Q6)\n",
        "\n",
        "input_pattern = r'ab{2,3}'\n",
        "input_string = 'ab' # Doesn't match as there is only 1 b.\n",
        "\n",
        "output_Q6 = pattern_checker(input_string, input_pattern )\n",
        "print(output_Q6)\n"
      ],
      "metadata": {
        "colab": {
          "base_uri": "https://localhost:8080/"
        },
        "id": "5u_INjbII10X",
        "outputId": "16e94bc0-1378-4842-9456-ac3dc4dc4b5a"
      },
      "execution_count": 89,
      "outputs": [
        {
          "output_type": "stream",
          "name": "stdout",
          "text": [
            "False\n",
            "True\n",
            "True\n",
            "False\n"
          ]
        }
      ]
    },
    {
      "cell_type": "code",
      "source": [
        "## Question 7- Write a Python program that matches a string that has an 'a' followed by anything, ending in 'b'.\n",
        "\n",
        "# Not using ^ in the pattern as it is not stated that the string should start with an a. But we will use $ as the string needs to end with a b.\n",
        "\n",
        "input_pattern = r'a.*b$'\n",
        "input_string = 'a' # Does not match as no b is present.\n",
        "\n",
        "output_Q7 = pattern_checker(input_string, input_pattern )\n",
        "print(output_Q7)\n",
        "\n",
        "input_pattern = r'a.*b$'\n",
        "input_string = 'abrherbuv6@ h 6h65y b' # Does match as there is one a at the beginning and at the end there is a b, the rest doesn't matter.\n",
        "\n",
        "output_Q7 = pattern_checker(input_string, input_pattern )\n",
        "print(output_Q7)\n",
        "\n",
        "input_pattern = r'a.*b$'\n",
        "input_string = 'utikghk abbb' # Matches as there is a string at the end which is abbb which matches the pattern.\n",
        "\n",
        "output_Q7 = pattern_checker(input_string, input_pattern )\n",
        "print(output_Q7)\n",
        "\n",
        "input_pattern = r'a.*b$'\n",
        "input_string = 'ab' # Does match as it doesn't matter if there is anything in between or not.\n",
        "\n",
        "output_Q7 = pattern_checker(input_string, input_pattern )\n",
        "print(output_Q7)\n",
        "\n"
      ],
      "metadata": {
        "colab": {
          "base_uri": "https://localhost:8080/"
        },
        "id": "4M4CkGhsJluM",
        "outputId": "6e94a8ce-2471-440f-cc54-eefa90367583"
      },
      "execution_count": 90,
      "outputs": [
        {
          "output_type": "stream",
          "name": "stdout",
          "text": [
            "False\n",
            "True\n",
            "True\n",
            "True\n"
          ]
        }
      ]
    },
    {
      "cell_type": "code",
      "source": [
        "## Question 8- Write a RegEx pattern in python program that matches a word at the beginning of a string.\n",
        "\n",
        "input_pattern = r'^[a-zA-Z]+\\b'\n",
        "input_string = ' 123 hello' # Does not match as there is no word at the beginning of the string.\n",
        "\n",
        "output_Q8 = pattern_checker(input_string, input_pattern )\n",
        "print(output_Q8)\n",
        "\n",
        "input_pattern = r'^[a-zA-Z]+\\b'\n",
        "input_string = '123' # Does not match as there are digits at the start of the string.\n",
        "\n",
        "output_Q8 = pattern_checker(input_string, input_pattern )\n",
        "print(output_Q8)\n",
        "\n",
        "input_pattern = r'^[a-zA-Z]+\\b'\n",
        "input_string = 'hello123' # Does not match as the string is alphanumeric.\n",
        "\n",
        "output_Q8 = pattern_checker(input_string, input_pattern )\n",
        "print(output_Q8)\n",
        "\n",
        "input_pattern = r'^[a-zA-Z]+\\b'\n",
        "input_string = 'hello 1243' # Does match as the string starts with the word 'hello'.\n",
        "\n",
        "output_Q8 = pattern_checker(input_string, input_pattern )\n",
        "print(output_Q8)\n"
      ],
      "metadata": {
        "colab": {
          "base_uri": "https://localhost:8080/"
        },
        "id": "TPB8YVKzMssZ",
        "outputId": "a45c9967-0e8f-4592-e1b1-58784f8117e8"
      },
      "execution_count": 91,
      "outputs": [
        {
          "output_type": "stream",
          "name": "stdout",
          "text": [
            "False\n",
            "False\n",
            "False\n",
            "True\n"
          ]
        }
      ]
    },
    {
      "cell_type": "code",
      "source": [
        "## Question 9- Write a RegEx pattern in python program that matches a word at the end of a string.\n",
        "\n",
        "input_pattern = r'\\b[a-zA-Z]+$'\n",
        "input_string = ' 123 hello' # Does match as the string ends with the word 'hello'.\n",
        "\n",
        "output_Q9 = pattern_checker(input_string, input_pattern )\n",
        "print(output_Q9)\n",
        "\n",
        "input_pattern = r'\\b[a-zA-Z]+$'\n",
        "input_string = '123' # Does not match as there are digits at the end of the string.\n",
        "\n",
        "output_Q9 = pattern_checker(input_string, input_pattern )\n",
        "print(output_Q9)\n",
        "\n",
        "input_pattern = r'\\b[a-zA-Z]+$'\n",
        "input_string = 'hello123' # Does not match as the string is alphanumeric.\n",
        "\n",
        "output_Q9 = pattern_checker(input_string, input_pattern )\n",
        "print(output_Q9)\n",
        "\n",
        "input_pattern = r'\\b[a-zA-Z]+$'\n",
        "input_string = 'hello 1243' # Does not match as the string ends with the word '1234'.\n",
        "\n",
        "output_Q9 = pattern_checker(input_string, input_pattern )\n",
        "print(output_Q9)\n"
      ],
      "metadata": {
        "colab": {
          "base_uri": "https://localhost:8080/"
        },
        "id": "NDFk7PbjSREo",
        "outputId": "92e8343e-91c3-4208-9524-a0df8dc50256"
      },
      "execution_count": 92,
      "outputs": [
        {
          "output_type": "stream",
          "name": "stdout",
          "text": [
            "True\n",
            "False\n",
            "False\n",
            "False\n"
          ]
        }
      ]
    },
    {
      "cell_type": "code",
      "source": [
        "## Question 10- Write a RegEx pattern in python program to find all words that are 4 digits long in a string.\n",
        "## Sample text- '01 0132 231875 1458 301 2725.'\n",
        "## Expected output- ['0132', '1458', '2725']\n",
        "\n",
        "input_pattern = r'\\b\\d{4}\\b'\n",
        "input_string = '43 7654 9802' # Does match as the string contains 4 digit numbers.\n",
        "matches = re.findall(input_pattern, input_string)\n",
        "print(matches)\n",
        "\n",
        "input_pattern = r'\\b\\d{4}\\b'\n",
        "input_string = '01 0132 231875 1458 301 2725.' # Does match as the string contains 4 digit numbers.\n",
        "matches = re.findall(input_pattern, input_string)\n",
        "print(matches)\n",
        "\n",
        "input_pattern = r'\\b\\d{4}\\b'\n",
        "input_string = '01 78 0 34 45' # Does not match as the string does not have any 4 digit numbers.\n",
        "matches = re.findall(input_pattern, input_string)\n",
        "print(matches)\n",
        "\n",
        "input_pattern = r'\\b\\d{4}\\b'\n",
        "input_string = '01905 78563 32330 13334 908422345' # Does not match as the string does not have any 4 digit numbers.\n",
        "matches = re.findall(input_pattern, input_string)\n",
        "print(matches)\n"
      ],
      "metadata": {
        "colab": {
          "base_uri": "https://localhost:8080/"
        },
        "id": "S5UwvlcxTUEe",
        "outputId": "093b0bbd-68b9-43a7-867e-bca0636b57e1"
      },
      "execution_count": 93,
      "outputs": [
        {
          "output_type": "stream",
          "name": "stdout",
          "text": [
            "['7654', '9802']\n",
            "['0132', '1458', '2725']\n",
            "[]\n",
            "[]\n"
          ]
        }
      ]
    },
    {
      "cell_type": "code",
      "source": [],
      "metadata": {
        "id": "2MrJExoPXruy"
      },
      "execution_count": null,
      "outputs": []
    }
  ]
}