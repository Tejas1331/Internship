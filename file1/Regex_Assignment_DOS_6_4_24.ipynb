{
  "nbformat": 4,
  "nbformat_minor": 0,
  "metadata": {
    "colab": {
      "provenance": []
    },
    "kernelspec": {
      "name": "python3",
      "display_name": "Python 3"
    },
    "language_info": {
      "name": "python"
    }
  },
  "cells": [
    {
      "cell_type": "markdown",
      "source": [
        "Question 1- Write a Python program to replace all occurrences of a space, comma, or dot with a colon.\n",
        "Sample Text- 'Python Exercises, PHP exercises.'\n",
        "Expected Output: Python:Exercises::PHP:exercises:"
      ],
      "metadata": {
        "id": "KZNYDed_qal6"
      }
    },
    {
      "cell_type": "code",
      "execution_count": 12,
      "metadata": {
        "colab": {
          "base_uri": "https://localhost:8080/",
          "height": 36
        },
        "id": "qtbGpIBPp1ND",
        "outputId": "044082a1-1d3e-4119-8a81-5beefa59ca40"
      },
      "outputs": [
        {
          "output_type": "execute_result",
          "data": {
            "text/plain": [
              "'Python:Exercises::PHP:exercises:'"
            ],
            "application/vnd.google.colaboratory.intrinsic+json": {
              "type": "string"
            }
          },
          "metadata": {},
          "execution_count": 12
        }
      ],
      "source": [
        "import re\n",
        "\n",
        "def replace_s_c_d(text):\n",
        "  pattern = r'[ ,.]'\n",
        "  return re.sub(pattern, ':', text)\n",
        "\n",
        "text_1 = 'Python Exercises, PHP exercises.'\n",
        "\n",
        "replace_s_c_d(text_1)"
      ]
    },
    {
      "cell_type": "markdown",
      "source": [
        "Question 2-  Create a dataframe using the dictionary below and remove everything (commas (,), !, XXXX, ;, etc.) from the columns except words.\n",
        "Dictionary- {'SUMMARY' : ['hello, world!', 'XXXXX test', '123four, five:; six...']}\n",
        "Expected output-\n",
        "0      hello world\n",
        "1             test\n",
        "2    four five six"
      ],
      "metadata": {
        "id": "QbxmQ_MprG2l"
      }
    },
    {
      "cell_type": "code",
      "source": [
        "dict = {'SUMMARY' : ['hello, world!', 'XXXXX test', '123four, five:; six...']}\n",
        "\n",
        "import pandas as pd\n",
        "\n",
        "df = pd.DataFrame(dict)\n",
        "\n",
        "pattern = r'[a-z]+'\n",
        "\n",
        "for i in range(len(df)):\n",
        "  words = re.findall(pattern, df['SUMMARY'][i])\n",
        "  df['SUMMARY'][i] = ' '.join(words)\n",
        "\n",
        "print(df)"
      ],
      "metadata": {
        "colab": {
          "base_uri": "https://localhost:8080/"
        },
        "id": "meYno2Hsq6Av",
        "outputId": "9556f60c-25b0-41e0-f328-ae566cf3b94c"
      },
      "execution_count": 13,
      "outputs": [
        {
          "output_type": "stream",
          "name": "stdout",
          "text": [
            "         SUMMARY\n",
            "0    hello world\n",
            "1           test\n",
            "2  four five six\n"
          ]
        }
      ]
    },
    {
      "cell_type": "markdown",
      "source": [
        "Question 3- Create a function in python to find all words that are at least 4 characters long in a string. The use of the re.compile() method is mandatory."
      ],
      "metadata": {
        "id": "yrz-6x9ot72a"
      }
    },
    {
      "cell_type": "code",
      "source": [
        "def atleast_4_char(text):\n",
        "  pattern = re.compile(r'\\b[A-Za-z]{4,}\\b')\n",
        "  words = pattern.findall(text)\n",
        "  return \" \".join(words)\n",
        "\n",
        "text = 'Game of Thrones is the one of the highest rated series of all time.'\n",
        "atleast_4_char(text)"
      ],
      "metadata": {
        "colab": {
          "base_uri": "https://localhost:8080/",
          "height": 36
        },
        "id": "3QQyvsyprbrI",
        "outputId": "a977ff78-617b-4a39-8e70-ab57fdead151"
      },
      "execution_count": 14,
      "outputs": [
        {
          "output_type": "execute_result",
          "data": {
            "text/plain": [
              "'Game Thrones highest rated series time'"
            ],
            "application/vnd.google.colaboratory.intrinsic+json": {
              "type": "string"
            }
          },
          "metadata": {},
          "execution_count": 14
        }
      ]
    },
    {
      "cell_type": "markdown",
      "source": [
        "Question 4- Create a function in python to find all three, four, and five character words in a string. The use of the re.compile() method is mandatory."
      ],
      "metadata": {
        "id": "PrA4gfcGwg94"
      }
    },
    {
      "cell_type": "code",
      "source": [
        "def three_4_5(text):\n",
        "  pattern = re.compile(r'\\b[A-Za-z]{3,5}\\b')\n",
        "  words = pattern.findall(text)\n",
        "  return \" \".join(words)\n",
        "\n",
        "text = 'Game of Thrones is the one of the highest rated series of all time.'\n",
        "three_4_5(text)"
      ],
      "metadata": {
        "colab": {
          "base_uri": "https://localhost:8080/",
          "height": 36
        },
        "id": "o7ERr74lsZh7",
        "outputId": "19bdcdf0-af36-4dae-9cca-17fd2fe3f5a6"
      },
      "execution_count": 15,
      "outputs": [
        {
          "output_type": "execute_result",
          "data": {
            "text/plain": [
              "'Game the one the rated all time'"
            ],
            "application/vnd.google.colaboratory.intrinsic+json": {
              "type": "string"
            }
          },
          "metadata": {},
          "execution_count": 15
        }
      ]
    },
    {
      "cell_type": "markdown",
      "source": [
        "Question 5- Create a function in Python to remove the parenthesis in a list of strings. The use of the re.compile() method is mandatory.\n",
        "Sample Text: [\"example (.com)\", \"hr@fliprobo (.com)\", \"github (.com)\", \"Hello (Data Science World)\", \"Data (Scientist)\"]\n",
        "Expected Output:\n",
        "example.com\n",
        "hr@fliprobo.com\n",
        "github.com\n",
        "Hello Data Science World\n",
        "Data Scientist"
      ],
      "metadata": {
        "id": "0exsSUNzxDy1"
      }
    },
    {
      "cell_type": "code",
      "source": [
        "def parenthesis_removal(text_list):\n",
        "  pattern = re.compile(r'[^()]')\n",
        "  for i in range(len(text_list)):\n",
        "    words = pattern.findall(text_list[i])\n",
        "    text_list[i] = ''.join(words)\n",
        "  return text_list\n",
        "\n",
        "text_list =  [\"example(.com)\", \"hr@fliprobo(.com)\", \"github(.com)\", \"Hello (Data Science World)\", \"Data (Scientist)\"]\n",
        "parenthesis_removal(text_list)"
      ],
      "metadata": {
        "colab": {
          "base_uri": "https://localhost:8080/"
        },
        "id": "RMIyRFlVvbos",
        "outputId": "a2ec24cd-ce3f-4b6b-9089-c4ee77732fbb"
      },
      "execution_count": 16,
      "outputs": [
        {
          "output_type": "execute_result",
          "data": {
            "text/plain": [
              "['example.com',\n",
              " 'hr@fliprobo.com',\n",
              " 'github.com',\n",
              " 'Hello Data Science World',\n",
              " 'Data Scientist']"
            ]
          },
          "metadata": {},
          "execution_count": 16
        }
      ]
    },
    {
      "cell_type": "markdown",
      "source": [
        "Question 6- Write a python program to remove the parenthesis area from the text stored in the text file using Regular Expression.\n",
        "Sample Text: [\"example (.com)\", \"hr@fliprobo (.com)\", \"github (.com)\", \"Hello (Data Science World)\", \"Data (Scientist)\"]\n",
        "Expected Output: [\"example\", \"hr@fliprobo\", \"github\", \"Hello\", \"Data\"]\n",
        "Note- Store given sample text in the text file and then to remove the parenthesis area from the text."
      ],
      "metadata": {
        "id": "GszoLdSDyr3C"
      }
    },
    {
      "cell_type": "code",
      "source": [
        "lis = [\"example(.com)\", \"hr@fliprobo(.com)\", \"github(.com)\", \"Hello(Data Science World)\", \"Data(Scientist)\"]\n",
        "\n",
        "with open('parenthesis.txt', 'w') as f:\n",
        "  for i in range(len(lis)):\n",
        "    f.write(lis[i]+'\\n')\n",
        "\n",
        "lis_2 =[]\n",
        "with open('parenthesis.txt', 'r') as f:\n",
        "  for line in f:\n",
        "    lis_2.append(line.strip())\n",
        "\n",
        "\n",
        "def remove_from_paren(text_list):\n",
        "  lis_3=[]\n",
        "  pattern = r'\\(.*\\)'\n",
        "  for i in range(len(text_list)):\n",
        "    words = re.sub(pattern,'', text_list[i])\n",
        "    lis_3.append(''.join(words))\n",
        "  return lis_3\n",
        "\n",
        "lis_3 = remove_from_paren(lis_2)\n",
        "\n",
        "with open('parenthesis.txt', 'w') as f:\n",
        "  for i in range(len(lis_3)):\n",
        "    f.write(lis_3[i]+'\\n')\n",
        "\n",
        "with open('parenthesis.txt', 'r') as f:\n",
        "  for line in f:\n",
        "    print(line.strip())\n"
      ],
      "metadata": {
        "colab": {
          "base_uri": "https://localhost:8080/"
        },
        "id": "z0NWkrNwzz5_",
        "outputId": "ac19a2ee-4b62-4154-8554-e8fdf1c0cdad"
      },
      "execution_count": 17,
      "outputs": [
        {
          "output_type": "stream",
          "name": "stdout",
          "text": [
            "example\n",
            "hr@fliprobo\n",
            "github\n",
            "Hello\n",
            "Data\n"
          ]
        }
      ]
    },
    {
      "cell_type": "markdown",
      "source": [
        "Question 7- Write a regular expression in Python to split a string into uppercase letters.\n",
        "Sample text: “ImportanceOfRegularExpressionsInPython”\n",
        "Expected Output: [‘Importance’, ‘Of’, ‘Regular’, ‘Expression’, ‘In’, ‘Python’]"
      ],
      "metadata": {
        "id": "kxvIQN4j7npw"
      }
    },
    {
      "cell_type": "code",
      "source": [
        "import re\n",
        "\n",
        "pattern = r'[A-Z][a-z]*'\n",
        "text = 'ImportanceOfRegularExpressionsInPython'\n",
        "words = re.findall(pattern, text)\n",
        "print(words)"
      ],
      "metadata": {
        "colab": {
          "base_uri": "https://localhost:8080/"
        },
        "id": "iN-0XocEWd4Q",
        "outputId": "a878c954-1bf9-4b59-d9c5-a4a58e0f6892"
      },
      "execution_count": 18,
      "outputs": [
        {
          "output_type": "stream",
          "name": "stdout",
          "text": [
            "['Importance', 'Of', 'Regular', 'Expressions', 'In', 'Python']\n"
          ]
        }
      ]
    },
    {
      "cell_type": "markdown",
      "source": [
        "Question 8- Create a function in python to insert spaces between words starting with numbers.\n",
        "Sample Text: “RegularExpression1IsAn2ImportantTopic3InPython\"\n",
        "Expected Output: RegularExpression 1IsAn 2ImportantTopic 3InPython"
      ],
      "metadata": {
        "id": "_lOIVFsGXywh"
      }
    },
    {
      "cell_type": "code",
      "source": [
        "import re\n",
        "\n",
        "def space_insert(text):\n",
        "  pattern = r'([0-9][A-Za-z]*)'\n",
        "  words = re.sub(pattern,r' \\1',text)\n",
        "  print(words)\n",
        "\n",
        "text = 'RegularExpression1IsAn2ImportantTopic3InPython'\n",
        "space_insert(text)"
      ],
      "metadata": {
        "colab": {
          "base_uri": "https://localhost:8080/"
        },
        "id": "tQHTVk8MdVk9",
        "outputId": "196d368d-d815-4b61-a532-995d65d2f30c"
      },
      "execution_count": 19,
      "outputs": [
        {
          "output_type": "stream",
          "name": "stdout",
          "text": [
            "RegularExpression 1IsAn 2ImportantTopic 3InPython\n"
          ]
        }
      ]
    },
    {
      "cell_type": "markdown",
      "source": [
        "Question 9- Create a function in python to insert spaces between words starting with capital letters or with numbers.\n",
        "Sample Text: “RegularExpression1IsAn2ImportantTopic3InPython\"\n",
        "Expected Output:  RegularExpression 1 IsAn 2 ImportantTopic 3 InPython"
      ],
      "metadata": {
        "id": "h9Yqsz9qbGOl"
      }
    },
    {
      "cell_type": "code",
      "source": [
        "## This code demonstrates what is asked in the question.\n",
        "\n",
        "import re\n",
        "\n",
        "def space_insert(text):\n",
        "  pattern = '([A-Z]|[0-9])'\n",
        "  words = re.sub(pattern, r' \\1', text)\n",
        "  print(words)\n",
        "\n",
        "text = 'RegularExpression1IsAn2ImportantTopic3InPython'\n",
        "space_insert(text)"
      ],
      "metadata": {
        "colab": {
          "base_uri": "https://localhost:8080/"
        },
        "id": "fOioKj3dGvVC",
        "outputId": "6d210902-17d5-4ecf-c855-69971db4aaaa"
      },
      "execution_count": 20,
      "outputs": [
        {
          "output_type": "stream",
          "name": "stdout",
          "text": [
            " Regular Expression 1 Is An 2 Important Topic 3 In Python\n"
          ]
        }
      ]
    },
    {
      "cell_type": "code",
      "source": [
        "## This code demonstrates what is the desired output in the question.\n",
        "import re\n",
        "\n",
        "def space_insert(text):\n",
        "  pattern = r'[0-9]*|[A-Za-z]*'\n",
        "  words = re.findall(pattern,text)\n",
        "  print(' '.join(words))\n",
        "\n",
        "text = 'RegularExpression1IsAn2ImportantTopic3InPython'\n",
        "space_insert(text)"
      ],
      "metadata": {
        "colab": {
          "base_uri": "https://localhost:8080/"
        },
        "id": "C_C147KVXmD_",
        "outputId": "5b994528-6f70-4bfe-c16d-e2b12593d6f2"
      },
      "execution_count": 21,
      "outputs": [
        {
          "output_type": "stream",
          "name": "stdout",
          "text": [
            " RegularExpression 1  IsAn 2  ImportantTopic 3  InPython \n"
          ]
        }
      ]
    },
    {
      "cell_type": "markdown",
      "source": [
        "Question 10- Use the github link below to read the data and create a dataframe. After creating the dataframe extract the first 6 letters of each country and store in the dataframe under a new column called first_five_letters."
      ],
      "metadata": {
        "id": "RDBhnsb_IjM6"
      }
    },
    {
      "cell_type": "code",
      "source": [
        "import pandas as pd\n",
        "\n",
        "data = pd.read_csv(\"https://raw.githubusercontent.com/dsrscientist/DSData/master/happiness_score_dataset.csv\")\n",
        "\n",
        "df = pd.DataFrame(data)\n",
        "\n",
        "lis=[]\n",
        "\n",
        "for i in df['Country']:\n",
        "  lis.append(i[:6])\n",
        "\n",
        "df['first_five_letters'] = lis\n",
        "\n",
        "df"
      ],
      "metadata": {
        "colab": {
          "base_uri": "https://localhost:8080/",
          "height": 632
        },
        "id": "LPR6xU6-cqeG",
        "outputId": "da294051-56a0-4b5b-fedb-52a26fbe4eaf"
      },
      "execution_count": 22,
      "outputs": [
        {
          "output_type": "execute_result",
          "data": {
            "text/plain": [
              "         Country                           Region  Happiness Rank  \\\n",
              "0    Switzerland                   Western Europe               1   \n",
              "1        Iceland                   Western Europe               2   \n",
              "2        Denmark                   Western Europe               3   \n",
              "3         Norway                   Western Europe               4   \n",
              "4         Canada                    North America               5   \n",
              "..           ...                              ...             ...   \n",
              "153       Rwanda               Sub-Saharan Africa             154   \n",
              "154        Benin               Sub-Saharan Africa             155   \n",
              "155        Syria  Middle East and Northern Africa             156   \n",
              "156      Burundi               Sub-Saharan Africa             157   \n",
              "157         Togo               Sub-Saharan Africa             158   \n",
              "\n",
              "     Happiness Score  Standard Error  Economy (GDP per Capita)   Family  \\\n",
              "0              7.587         0.03411                   1.39651  1.34951   \n",
              "1              7.561         0.04884                   1.30232  1.40223   \n",
              "2              7.527         0.03328                   1.32548  1.36058   \n",
              "3              7.522         0.03880                   1.45900  1.33095   \n",
              "4              7.427         0.03553                   1.32629  1.32261   \n",
              "..               ...             ...                       ...      ...   \n",
              "153            3.465         0.03464                   0.22208  0.77370   \n",
              "154            3.340         0.03656                   0.28665  0.35386   \n",
              "155            3.006         0.05015                   0.66320  0.47489   \n",
              "156            2.905         0.08658                   0.01530  0.41587   \n",
              "157            2.839         0.06727                   0.20868  0.13995   \n",
              "\n",
              "     Health (Life Expectancy)  Freedom  Trust (Government Corruption)  \\\n",
              "0                     0.94143  0.66557                        0.41978   \n",
              "1                     0.94784  0.62877                        0.14145   \n",
              "2                     0.87464  0.64938                        0.48357   \n",
              "3                     0.88521  0.66973                        0.36503   \n",
              "4                     0.90563  0.63297                        0.32957   \n",
              "..                        ...      ...                            ...   \n",
              "153                   0.42864  0.59201                        0.55191   \n",
              "154                   0.31910  0.48450                        0.08010   \n",
              "155                   0.72193  0.15684                        0.18906   \n",
              "156                   0.22396  0.11850                        0.10062   \n",
              "157                   0.28443  0.36453                        0.10731   \n",
              "\n",
              "     Generosity  Dystopia Residual first_five_letters  \n",
              "0       0.29678            2.51738             Switze  \n",
              "1       0.43630            2.70201             Icelan  \n",
              "2       0.34139            2.49204             Denmar  \n",
              "3       0.34699            2.46531             Norway  \n",
              "4       0.45811            2.45176             Canada  \n",
              "..          ...                ...                ...  \n",
              "153     0.22628            0.67042             Rwanda  \n",
              "154     0.18260            1.63328              Benin  \n",
              "155     0.47179            0.32858              Syria  \n",
              "156     0.19727            1.83302             Burund  \n",
              "157     0.16681            1.56726               Togo  \n",
              "\n",
              "[158 rows x 13 columns]"
            ],
            "text/html": [
              "\n",
              "  <div id=\"df-2da258d3-16af-4124-9a21-569fb57f56cf\" class=\"colab-df-container\">\n",
              "    <div>\n",
              "<style scoped>\n",
              "    .dataframe tbody tr th:only-of-type {\n",
              "        vertical-align: middle;\n",
              "    }\n",
              "\n",
              "    .dataframe tbody tr th {\n",
              "        vertical-align: top;\n",
              "    }\n",
              "\n",
              "    .dataframe thead th {\n",
              "        text-align: right;\n",
              "    }\n",
              "</style>\n",
              "<table border=\"1\" class=\"dataframe\">\n",
              "  <thead>\n",
              "    <tr style=\"text-align: right;\">\n",
              "      <th></th>\n",
              "      <th>Country</th>\n",
              "      <th>Region</th>\n",
              "      <th>Happiness Rank</th>\n",
              "      <th>Happiness Score</th>\n",
              "      <th>Standard Error</th>\n",
              "      <th>Economy (GDP per Capita)</th>\n",
              "      <th>Family</th>\n",
              "      <th>Health (Life Expectancy)</th>\n",
              "      <th>Freedom</th>\n",
              "      <th>Trust (Government Corruption)</th>\n",
              "      <th>Generosity</th>\n",
              "      <th>Dystopia Residual</th>\n",
              "      <th>first_five_letters</th>\n",
              "    </tr>\n",
              "  </thead>\n",
              "  <tbody>\n",
              "    <tr>\n",
              "      <th>0</th>\n",
              "      <td>Switzerland</td>\n",
              "      <td>Western Europe</td>\n",
              "      <td>1</td>\n",
              "      <td>7.587</td>\n",
              "      <td>0.03411</td>\n",
              "      <td>1.39651</td>\n",
              "      <td>1.34951</td>\n",
              "      <td>0.94143</td>\n",
              "      <td>0.66557</td>\n",
              "      <td>0.41978</td>\n",
              "      <td>0.29678</td>\n",
              "      <td>2.51738</td>\n",
              "      <td>Switze</td>\n",
              "    </tr>\n",
              "    <tr>\n",
              "      <th>1</th>\n",
              "      <td>Iceland</td>\n",
              "      <td>Western Europe</td>\n",
              "      <td>2</td>\n",
              "      <td>7.561</td>\n",
              "      <td>0.04884</td>\n",
              "      <td>1.30232</td>\n",
              "      <td>1.40223</td>\n",
              "      <td>0.94784</td>\n",
              "      <td>0.62877</td>\n",
              "      <td>0.14145</td>\n",
              "      <td>0.43630</td>\n",
              "      <td>2.70201</td>\n",
              "      <td>Icelan</td>\n",
              "    </tr>\n",
              "    <tr>\n",
              "      <th>2</th>\n",
              "      <td>Denmark</td>\n",
              "      <td>Western Europe</td>\n",
              "      <td>3</td>\n",
              "      <td>7.527</td>\n",
              "      <td>0.03328</td>\n",
              "      <td>1.32548</td>\n",
              "      <td>1.36058</td>\n",
              "      <td>0.87464</td>\n",
              "      <td>0.64938</td>\n",
              "      <td>0.48357</td>\n",
              "      <td>0.34139</td>\n",
              "      <td>2.49204</td>\n",
              "      <td>Denmar</td>\n",
              "    </tr>\n",
              "    <tr>\n",
              "      <th>3</th>\n",
              "      <td>Norway</td>\n",
              "      <td>Western Europe</td>\n",
              "      <td>4</td>\n",
              "      <td>7.522</td>\n",
              "      <td>0.03880</td>\n",
              "      <td>1.45900</td>\n",
              "      <td>1.33095</td>\n",
              "      <td>0.88521</td>\n",
              "      <td>0.66973</td>\n",
              "      <td>0.36503</td>\n",
              "      <td>0.34699</td>\n",
              "      <td>2.46531</td>\n",
              "      <td>Norway</td>\n",
              "    </tr>\n",
              "    <tr>\n",
              "      <th>4</th>\n",
              "      <td>Canada</td>\n",
              "      <td>North America</td>\n",
              "      <td>5</td>\n",
              "      <td>7.427</td>\n",
              "      <td>0.03553</td>\n",
              "      <td>1.32629</td>\n",
              "      <td>1.32261</td>\n",
              "      <td>0.90563</td>\n",
              "      <td>0.63297</td>\n",
              "      <td>0.32957</td>\n",
              "      <td>0.45811</td>\n",
              "      <td>2.45176</td>\n",
              "      <td>Canada</td>\n",
              "    </tr>\n",
              "    <tr>\n",
              "      <th>...</th>\n",
              "      <td>...</td>\n",
              "      <td>...</td>\n",
              "      <td>...</td>\n",
              "      <td>...</td>\n",
              "      <td>...</td>\n",
              "      <td>...</td>\n",
              "      <td>...</td>\n",
              "      <td>...</td>\n",
              "      <td>...</td>\n",
              "      <td>...</td>\n",
              "      <td>...</td>\n",
              "      <td>...</td>\n",
              "      <td>...</td>\n",
              "    </tr>\n",
              "    <tr>\n",
              "      <th>153</th>\n",
              "      <td>Rwanda</td>\n",
              "      <td>Sub-Saharan Africa</td>\n",
              "      <td>154</td>\n",
              "      <td>3.465</td>\n",
              "      <td>0.03464</td>\n",
              "      <td>0.22208</td>\n",
              "      <td>0.77370</td>\n",
              "      <td>0.42864</td>\n",
              "      <td>0.59201</td>\n",
              "      <td>0.55191</td>\n",
              "      <td>0.22628</td>\n",
              "      <td>0.67042</td>\n",
              "      <td>Rwanda</td>\n",
              "    </tr>\n",
              "    <tr>\n",
              "      <th>154</th>\n",
              "      <td>Benin</td>\n",
              "      <td>Sub-Saharan Africa</td>\n",
              "      <td>155</td>\n",
              "      <td>3.340</td>\n",
              "      <td>0.03656</td>\n",
              "      <td>0.28665</td>\n",
              "      <td>0.35386</td>\n",
              "      <td>0.31910</td>\n",
              "      <td>0.48450</td>\n",
              "      <td>0.08010</td>\n",
              "      <td>0.18260</td>\n",
              "      <td>1.63328</td>\n",
              "      <td>Benin</td>\n",
              "    </tr>\n",
              "    <tr>\n",
              "      <th>155</th>\n",
              "      <td>Syria</td>\n",
              "      <td>Middle East and Northern Africa</td>\n",
              "      <td>156</td>\n",
              "      <td>3.006</td>\n",
              "      <td>0.05015</td>\n",
              "      <td>0.66320</td>\n",
              "      <td>0.47489</td>\n",
              "      <td>0.72193</td>\n",
              "      <td>0.15684</td>\n",
              "      <td>0.18906</td>\n",
              "      <td>0.47179</td>\n",
              "      <td>0.32858</td>\n",
              "      <td>Syria</td>\n",
              "    </tr>\n",
              "    <tr>\n",
              "      <th>156</th>\n",
              "      <td>Burundi</td>\n",
              "      <td>Sub-Saharan Africa</td>\n",
              "      <td>157</td>\n",
              "      <td>2.905</td>\n",
              "      <td>0.08658</td>\n",
              "      <td>0.01530</td>\n",
              "      <td>0.41587</td>\n",
              "      <td>0.22396</td>\n",
              "      <td>0.11850</td>\n",
              "      <td>0.10062</td>\n",
              "      <td>0.19727</td>\n",
              "      <td>1.83302</td>\n",
              "      <td>Burund</td>\n",
              "    </tr>\n",
              "    <tr>\n",
              "      <th>157</th>\n",
              "      <td>Togo</td>\n",
              "      <td>Sub-Saharan Africa</td>\n",
              "      <td>158</td>\n",
              "      <td>2.839</td>\n",
              "      <td>0.06727</td>\n",
              "      <td>0.20868</td>\n",
              "      <td>0.13995</td>\n",
              "      <td>0.28443</td>\n",
              "      <td>0.36453</td>\n",
              "      <td>0.10731</td>\n",
              "      <td>0.16681</td>\n",
              "      <td>1.56726</td>\n",
              "      <td>Togo</td>\n",
              "    </tr>\n",
              "  </tbody>\n",
              "</table>\n",
              "<p>158 rows × 13 columns</p>\n",
              "</div>\n",
              "    <div class=\"colab-df-buttons\">\n",
              "\n",
              "  <div class=\"colab-df-container\">\n",
              "    <button class=\"colab-df-convert\" onclick=\"convertToInteractive('df-2da258d3-16af-4124-9a21-569fb57f56cf')\"\n",
              "            title=\"Convert this dataframe to an interactive table.\"\n",
              "            style=\"display:none;\">\n",
              "\n",
              "  <svg xmlns=\"http://www.w3.org/2000/svg\" height=\"24px\" viewBox=\"0 -960 960 960\">\n",
              "    <path d=\"M120-120v-720h720v720H120Zm60-500h600v-160H180v160Zm220 220h160v-160H400v160Zm0 220h160v-160H400v160ZM180-400h160v-160H180v160Zm440 0h160v-160H620v160ZM180-180h160v-160H180v160Zm440 0h160v-160H620v160Z\"/>\n",
              "  </svg>\n",
              "    </button>\n",
              "\n",
              "  <style>\n",
              "    .colab-df-container {\n",
              "      display:flex;\n",
              "      gap: 12px;\n",
              "    }\n",
              "\n",
              "    .colab-df-convert {\n",
              "      background-color: #E8F0FE;\n",
              "      border: none;\n",
              "      border-radius: 50%;\n",
              "      cursor: pointer;\n",
              "      display: none;\n",
              "      fill: #1967D2;\n",
              "      height: 32px;\n",
              "      padding: 0 0 0 0;\n",
              "      width: 32px;\n",
              "    }\n",
              "\n",
              "    .colab-df-convert:hover {\n",
              "      background-color: #E2EBFA;\n",
              "      box-shadow: 0px 1px 2px rgba(60, 64, 67, 0.3), 0px 1px 3px 1px rgba(60, 64, 67, 0.15);\n",
              "      fill: #174EA6;\n",
              "    }\n",
              "\n",
              "    .colab-df-buttons div {\n",
              "      margin-bottom: 4px;\n",
              "    }\n",
              "\n",
              "    [theme=dark] .colab-df-convert {\n",
              "      background-color: #3B4455;\n",
              "      fill: #D2E3FC;\n",
              "    }\n",
              "\n",
              "    [theme=dark] .colab-df-convert:hover {\n",
              "      background-color: #434B5C;\n",
              "      box-shadow: 0px 1px 3px 1px rgba(0, 0, 0, 0.15);\n",
              "      filter: drop-shadow(0px 1px 2px rgba(0, 0, 0, 0.3));\n",
              "      fill: #FFFFFF;\n",
              "    }\n",
              "  </style>\n",
              "\n",
              "    <script>\n",
              "      const buttonEl =\n",
              "        document.querySelector('#df-2da258d3-16af-4124-9a21-569fb57f56cf button.colab-df-convert');\n",
              "      buttonEl.style.display =\n",
              "        google.colab.kernel.accessAllowed ? 'block' : 'none';\n",
              "\n",
              "      async function convertToInteractive(key) {\n",
              "        const element = document.querySelector('#df-2da258d3-16af-4124-9a21-569fb57f56cf');\n",
              "        const dataTable =\n",
              "          await google.colab.kernel.invokeFunction('convertToInteractive',\n",
              "                                                    [key], {});\n",
              "        if (!dataTable) return;\n",
              "\n",
              "        const docLinkHtml = 'Like what you see? Visit the ' +\n",
              "          '<a target=\"_blank\" href=https://colab.research.google.com/notebooks/data_table.ipynb>data table notebook</a>'\n",
              "          + ' to learn more about interactive tables.';\n",
              "        element.innerHTML = '';\n",
              "        dataTable['output_type'] = 'display_data';\n",
              "        await google.colab.output.renderOutput(dataTable, element);\n",
              "        const docLink = document.createElement('div');\n",
              "        docLink.innerHTML = docLinkHtml;\n",
              "        element.appendChild(docLink);\n",
              "      }\n",
              "    </script>\n",
              "  </div>\n",
              "\n",
              "\n",
              "<div id=\"df-04a3e52d-a411-4f28-9061-f30aef52d550\">\n",
              "  <button class=\"colab-df-quickchart\" onclick=\"quickchart('df-04a3e52d-a411-4f28-9061-f30aef52d550')\"\n",
              "            title=\"Suggest charts\"\n",
              "            style=\"display:none;\">\n",
              "\n",
              "<svg xmlns=\"http://www.w3.org/2000/svg\" height=\"24px\"viewBox=\"0 0 24 24\"\n",
              "     width=\"24px\">\n",
              "    <g>\n",
              "        <path d=\"M19 3H5c-1.1 0-2 .9-2 2v14c0 1.1.9 2 2 2h14c1.1 0 2-.9 2-2V5c0-1.1-.9-2-2-2zM9 17H7v-7h2v7zm4 0h-2V7h2v10zm4 0h-2v-4h2v4z\"/>\n",
              "    </g>\n",
              "</svg>\n",
              "  </button>\n",
              "\n",
              "<style>\n",
              "  .colab-df-quickchart {\n",
              "      --bg-color: #E8F0FE;\n",
              "      --fill-color: #1967D2;\n",
              "      --hover-bg-color: #E2EBFA;\n",
              "      --hover-fill-color: #174EA6;\n",
              "      --disabled-fill-color: #AAA;\n",
              "      --disabled-bg-color: #DDD;\n",
              "  }\n",
              "\n",
              "  [theme=dark] .colab-df-quickchart {\n",
              "      --bg-color: #3B4455;\n",
              "      --fill-color: #D2E3FC;\n",
              "      --hover-bg-color: #434B5C;\n",
              "      --hover-fill-color: #FFFFFF;\n",
              "      --disabled-bg-color: #3B4455;\n",
              "      --disabled-fill-color: #666;\n",
              "  }\n",
              "\n",
              "  .colab-df-quickchart {\n",
              "    background-color: var(--bg-color);\n",
              "    border: none;\n",
              "    border-radius: 50%;\n",
              "    cursor: pointer;\n",
              "    display: none;\n",
              "    fill: var(--fill-color);\n",
              "    height: 32px;\n",
              "    padding: 0;\n",
              "    width: 32px;\n",
              "  }\n",
              "\n",
              "  .colab-df-quickchart:hover {\n",
              "    background-color: var(--hover-bg-color);\n",
              "    box-shadow: 0 1px 2px rgba(60, 64, 67, 0.3), 0 1px 3px 1px rgba(60, 64, 67, 0.15);\n",
              "    fill: var(--button-hover-fill-color);\n",
              "  }\n",
              "\n",
              "  .colab-df-quickchart-complete:disabled,\n",
              "  .colab-df-quickchart-complete:disabled:hover {\n",
              "    background-color: var(--disabled-bg-color);\n",
              "    fill: var(--disabled-fill-color);\n",
              "    box-shadow: none;\n",
              "  }\n",
              "\n",
              "  .colab-df-spinner {\n",
              "    border: 2px solid var(--fill-color);\n",
              "    border-color: transparent;\n",
              "    border-bottom-color: var(--fill-color);\n",
              "    animation:\n",
              "      spin 1s steps(1) infinite;\n",
              "  }\n",
              "\n",
              "  @keyframes spin {\n",
              "    0% {\n",
              "      border-color: transparent;\n",
              "      border-bottom-color: var(--fill-color);\n",
              "      border-left-color: var(--fill-color);\n",
              "    }\n",
              "    20% {\n",
              "      border-color: transparent;\n",
              "      border-left-color: var(--fill-color);\n",
              "      border-top-color: var(--fill-color);\n",
              "    }\n",
              "    30% {\n",
              "      border-color: transparent;\n",
              "      border-left-color: var(--fill-color);\n",
              "      border-top-color: var(--fill-color);\n",
              "      border-right-color: var(--fill-color);\n",
              "    }\n",
              "    40% {\n",
              "      border-color: transparent;\n",
              "      border-right-color: var(--fill-color);\n",
              "      border-top-color: var(--fill-color);\n",
              "    }\n",
              "    60% {\n",
              "      border-color: transparent;\n",
              "      border-right-color: var(--fill-color);\n",
              "    }\n",
              "    80% {\n",
              "      border-color: transparent;\n",
              "      border-right-color: var(--fill-color);\n",
              "      border-bottom-color: var(--fill-color);\n",
              "    }\n",
              "    90% {\n",
              "      border-color: transparent;\n",
              "      border-bottom-color: var(--fill-color);\n",
              "    }\n",
              "  }\n",
              "</style>\n",
              "\n",
              "  <script>\n",
              "    async function quickchart(key) {\n",
              "      const quickchartButtonEl =\n",
              "        document.querySelector('#' + key + ' button');\n",
              "      quickchartButtonEl.disabled = true;  // To prevent multiple clicks.\n",
              "      quickchartButtonEl.classList.add('colab-df-spinner');\n",
              "      try {\n",
              "        const charts = await google.colab.kernel.invokeFunction(\n",
              "            'suggestCharts', [key], {});\n",
              "      } catch (error) {\n",
              "        console.error('Error during call to suggestCharts:', error);\n",
              "      }\n",
              "      quickchartButtonEl.classList.remove('colab-df-spinner');\n",
              "      quickchartButtonEl.classList.add('colab-df-quickchart-complete');\n",
              "    }\n",
              "    (() => {\n",
              "      let quickchartButtonEl =\n",
              "        document.querySelector('#df-04a3e52d-a411-4f28-9061-f30aef52d550 button');\n",
              "      quickchartButtonEl.style.display =\n",
              "        google.colab.kernel.accessAllowed ? 'block' : 'none';\n",
              "    })();\n",
              "  </script>\n",
              "</div>\n",
              "\n",
              "  <div id=\"id_5d12cfc2-5480-461a-bd0f-247e6e6fd220\">\n",
              "    <style>\n",
              "      .colab-df-generate {\n",
              "        background-color: #E8F0FE;\n",
              "        border: none;\n",
              "        border-radius: 50%;\n",
              "        cursor: pointer;\n",
              "        display: none;\n",
              "        fill: #1967D2;\n",
              "        height: 32px;\n",
              "        padding: 0 0 0 0;\n",
              "        width: 32px;\n",
              "      }\n",
              "\n",
              "      .colab-df-generate:hover {\n",
              "        background-color: #E2EBFA;\n",
              "        box-shadow: 0px 1px 2px rgba(60, 64, 67, 0.3), 0px 1px 3px 1px rgba(60, 64, 67, 0.15);\n",
              "        fill: #174EA6;\n",
              "      }\n",
              "\n",
              "      [theme=dark] .colab-df-generate {\n",
              "        background-color: #3B4455;\n",
              "        fill: #D2E3FC;\n",
              "      }\n",
              "\n",
              "      [theme=dark] .colab-df-generate:hover {\n",
              "        background-color: #434B5C;\n",
              "        box-shadow: 0px 1px 3px 1px rgba(0, 0, 0, 0.15);\n",
              "        filter: drop-shadow(0px 1px 2px rgba(0, 0, 0, 0.3));\n",
              "        fill: #FFFFFF;\n",
              "      }\n",
              "    </style>\n",
              "    <button class=\"colab-df-generate\" onclick=\"generateWithVariable('df')\"\n",
              "            title=\"Generate code using this dataframe.\"\n",
              "            style=\"display:none;\">\n",
              "\n",
              "  <svg xmlns=\"http://www.w3.org/2000/svg\" height=\"24px\"viewBox=\"0 0 24 24\"\n",
              "       width=\"24px\">\n",
              "    <path d=\"M7,19H8.4L18.45,9,17,7.55,7,17.6ZM5,21V16.75L18.45,3.32a2,2,0,0,1,2.83,0l1.4,1.43a1.91,1.91,0,0,1,.58,1.4,1.91,1.91,0,0,1-.58,1.4L9.25,21ZM18.45,9,17,7.55Zm-12,3A5.31,5.31,0,0,0,4.9,8.1,5.31,5.31,0,0,0,1,6.5,5.31,5.31,0,0,0,4.9,4.9,5.31,5.31,0,0,0,6.5,1,5.31,5.31,0,0,0,8.1,4.9,5.31,5.31,0,0,0,12,6.5,5.46,5.46,0,0,0,6.5,12Z\"/>\n",
              "  </svg>\n",
              "    </button>\n",
              "    <script>\n",
              "      (() => {\n",
              "      const buttonEl =\n",
              "        document.querySelector('#id_5d12cfc2-5480-461a-bd0f-247e6e6fd220 button.colab-df-generate');\n",
              "      buttonEl.style.display =\n",
              "        google.colab.kernel.accessAllowed ? 'block' : 'none';\n",
              "\n",
              "      buttonEl.onclick = () => {\n",
              "        google.colab.notebook.generateWithVariable('df');\n",
              "      }\n",
              "      })();\n",
              "    </script>\n",
              "  </div>\n",
              "\n",
              "    </div>\n",
              "  </div>\n"
            ],
            "application/vnd.google.colaboratory.intrinsic+json": {
              "type": "dataframe",
              "variable_name": "df",
              "summary": "{\n  \"name\": \"df\",\n  \"rows\": 158,\n  \"fields\": [\n    {\n      \"column\": \"Country\",\n      \"properties\": {\n        \"dtype\": \"string\",\n        \"num_unique_values\": 158,\n        \"samples\": [\n          \"Myanmar\",\n          \"Japan\",\n          \"Egypt\"\n        ],\n        \"semantic_type\": \"\",\n        \"description\": \"\"\n      }\n    },\n    {\n      \"column\": \"Region\",\n      \"properties\": {\n        \"dtype\": \"category\",\n        \"num_unique_values\": 10,\n        \"samples\": [\n          \"Sub-Saharan Africa\",\n          \"North America\",\n          \"Southeastern Asia\"\n        ],\n        \"semantic_type\": \"\",\n        \"description\": \"\"\n      }\n    },\n    {\n      \"column\": \"Happiness Rank\",\n      \"properties\": {\n        \"dtype\": \"number\",\n        \"std\": 45,\n        \"min\": 1,\n        \"max\": 158,\n        \"num_unique_values\": 157,\n        \"samples\": [\n          128,\n          46,\n          135\n        ],\n        \"semantic_type\": \"\",\n        \"description\": \"\"\n      }\n    },\n    {\n      \"column\": \"Happiness Score\",\n      \"properties\": {\n        \"dtype\": \"number\",\n        \"std\": 1.1450101349520665,\n        \"min\": 2.839,\n        \"max\": 7.587,\n        \"num_unique_values\": 157,\n        \"samples\": [\n          4.332,\n          5.987,\n          4.194\n        ],\n        \"semantic_type\": \"\",\n        \"description\": \"\"\n      }\n    },\n    {\n      \"column\": \"Standard Error\",\n      \"properties\": {\n        \"dtype\": \"number\",\n        \"std\": 0.017146178556969306,\n        \"min\": 0.01848,\n        \"max\": 0.13693,\n        \"num_unique_values\": 153,\n        \"samples\": [\n          0.06607,\n          0.04802,\n          0.06698\n        ],\n        \"semantic_type\": \"\",\n        \"description\": \"\"\n      }\n    },\n    {\n      \"column\": \"Economy (GDP per Capita)\",\n      \"properties\": {\n        \"dtype\": \"number\",\n        \"std\": 0.40312077853791,\n        \"min\": 0.0,\n        \"max\": 1.69042,\n        \"num_unique_values\": 158,\n        \"samples\": [\n          0.27108,\n          1.27074,\n          0.8818\n        ],\n        \"semantic_type\": \"\",\n        \"description\": \"\"\n      }\n    },\n    {\n      \"column\": \"Family\",\n      \"properties\": {\n        \"dtype\": \"number\",\n        \"std\": 0.27236908600791543,\n        \"min\": 0.0,\n        \"max\": 1.40223,\n        \"num_unique_values\": 158,\n        \"samples\": [\n          0.70905,\n          1.25712,\n          0.747\n        ],\n        \"semantic_type\": \"\",\n        \"description\": \"\"\n      }\n    },\n    {\n      \"column\": \"Health (Life Expectancy)\",\n      \"properties\": {\n        \"dtype\": \"number\",\n        \"std\": 0.24707776630217207,\n        \"min\": 0.0,\n        \"max\": 1.02525,\n        \"num_unique_values\": 157,\n        \"samples\": [\n          0.04776,\n          0.99111,\n          0.61712\n        ],\n        \"semantic_type\": \"\",\n        \"description\": \"\"\n      }\n    },\n    {\n      \"column\": \"Freedom\",\n      \"properties\": {\n        \"dtype\": \"number\",\n        \"std\": 0.15069278393767793,\n        \"min\": 0.0,\n        \"max\": 0.66973,\n        \"num_unique_values\": 158,\n        \"samples\": [\n          0.44017,\n          0.49615,\n          0.17288\n        ],\n        \"semantic_type\": \"\",\n        \"description\": \"\"\n      }\n    },\n    {\n      \"column\": \"Trust (Government Corruption)\",\n      \"properties\": {\n        \"dtype\": \"number\",\n        \"std\": 0.12003407357455917,\n        \"min\": 0.0,\n        \"max\": 0.55191,\n        \"num_unique_values\": 157,\n        \"samples\": [\n          0.12474,\n          0.07857,\n          0.06324\n        ],\n        \"semantic_type\": \"\",\n        \"description\": \"\"\n      }\n    },\n    {\n      \"column\": \"Generosity\",\n      \"properties\": {\n        \"dtype\": \"number\",\n        \"std\": 0.12668493402020534,\n        \"min\": 0.0,\n        \"max\": 0.79588,\n        \"num_unique_values\": 158,\n        \"samples\": [\n          0.79588,\n          0.10705,\n          0.11291\n        ],\n        \"semantic_type\": \"\",\n        \"description\": \"\"\n      }\n    },\n    {\n      \"column\": \"Dystopia Residual\",\n      \"properties\": {\n        \"dtype\": \"number\",\n        \"std\": 0.5535497923037984,\n        \"min\": 0.32858,\n        \"max\": 3.60214,\n        \"num_unique_values\": 158,\n        \"samples\": [\n          1.41805,\n          1.68435,\n          1.59927\n        ],\n        \"semantic_type\": \"\",\n        \"description\": \"\"\n      }\n    },\n    {\n      \"column\": \"first_five_letters\",\n      \"properties\": {\n        \"dtype\": \"string\",\n        \"num_unique_values\": 153,\n        \"samples\": [\n          \"Serbia\",\n          \"Latvia\",\n          \"Mongol\"\n        ],\n        \"semantic_type\": \"\",\n        \"description\": \"\"\n      }\n    }\n  ]\n}"
            }
          },
          "metadata": {},
          "execution_count": 22
        }
      ]
    },
    {
      "cell_type": "markdown",
      "source": [
        "Question 11- Write a Python program to match a string that contains only upper and lowercase letters, numbers, and underscores."
      ],
      "metadata": {
        "id": "2NMh0YdSLHuY"
      }
    },
    {
      "cell_type": "code",
      "source": [
        "import re\n",
        "\n",
        "def string_matcher(text):\n",
        "  pattern = r'^[A-Za-z0-9_]*$'  # This will only match a string that contains as stated in the question.\n",
        "  if re.match(pattern, text):\n",
        "    return True\n",
        "  else:\n",
        "    return False\n",
        "\n",
        "text = 'hello_world123'\n",
        "string_matcher(text)"
      ],
      "metadata": {
        "colab": {
          "base_uri": "https://localhost:8080/"
        },
        "id": "aG2sna1SJdIW",
        "outputId": "e1bdf458-93b7-48fd-812e-fdb11b0f4eca"
      },
      "execution_count": 23,
      "outputs": [
        {
          "output_type": "execute_result",
          "data": {
            "text/plain": [
              "True"
            ]
          },
          "metadata": {},
          "execution_count": 23
        }
      ]
    },
    {
      "cell_type": "markdown",
      "source": [
        "Question 12- Write a Python program where a string will start with a specific number."
      ],
      "metadata": {
        "id": "hSWZ7bocMZyf"
      }
    },
    {
      "cell_type": "code",
      "source": [
        "def starts_with_number(text, number):\n",
        "    pattern = r'^' + re.escape(str(number))\n",
        "    if re.match(pattern, text):\n",
        "        return True\n",
        "    else:\n",
        "        return False\n",
        "\n",
        "text = '123 Lets us dance.'\n",
        "number = 123\n",
        "print(starts_with_number(text, number))\n",
        "\n",
        "text = '123 Lets us dance.'\n",
        "number = 456\n",
        "print(starts_with_number(text, number))"
      ],
      "metadata": {
        "colab": {
          "base_uri": "https://localhost:8080/"
        },
        "id": "hvfpe8kpMOKI",
        "outputId": "ea7dde9b-1141-40c7-b839-d142204c4bc6"
      },
      "execution_count": 24,
      "outputs": [
        {
          "output_type": "stream",
          "name": "stdout",
          "text": [
            "True\n",
            "False\n"
          ]
        }
      ]
    },
    {
      "cell_type": "markdown",
      "source": [
        "Question 13- Write a Python program to remove leading zeros from an IP address"
      ],
      "metadata": {
        "id": "Y8-4fQHwOhq7"
      }
    },
    {
      "cell_type": "code",
      "source": [
        "import re\n",
        "\n",
        "def leading_zeros(ip_address):\n",
        "    pattern = r'\\b0+(\\d{1,2})\\b'\n",
        "    result = re.sub(pattern, r'\\1', ip_address)\n",
        "    return result\n",
        "\n",
        "ip_address = \"001.192.345.002\"\n",
        "new_ip= leading_zeros(ip_address)\n",
        "\n",
        "print(new_ip)"
      ],
      "metadata": {
        "colab": {
          "base_uri": "https://localhost:8080/"
        },
        "id": "4wVbmweCOUft",
        "outputId": "fcd1f345-3796-4c8c-90a0-c72778fcd37b"
      },
      "execution_count": 25,
      "outputs": [
        {
          "output_type": "stream",
          "name": "stdout",
          "text": [
            "1.192.345.2\n"
          ]
        }
      ]
    },
    {
      "cell_type": "markdown",
      "source": [
        "Question 14- Write a regular expression in python to match a date string in the form of Month name followed by day number and year stored in a text file."
      ],
      "metadata": {
        "id": "zzDm8k1uUBah"
      }
    },
    {
      "cell_type": "code",
      "source": [
        "with open('date.txt', 'w') as file:\n",
        "    file.write('On August 15th 1947 that India was declared independent from British colonialism, and the reins of control were handed over to the leaders of the Country.')\n",
        "\n",
        "with open('date.txt', 'r') as file:\n",
        "    text = file.read()\n",
        "\n",
        "pattern = r'\\b(January|February|March|April|May|June|July|August|September|October|November|December)\\s+\\d{1,2}(nd|st|th)\\s+\\d{4}\\b'\n",
        "ans = re.search(pattern, text)\n",
        "print(ans.group())\n"
      ],
      "metadata": {
        "colab": {
          "base_uri": "https://localhost:8080/"
        },
        "id": "O0WIU95EQ8tH",
        "outputId": "ea74cf57-2af5-4e44-9784-ed9849eb81c0"
      },
      "execution_count": 26,
      "outputs": [
        {
          "output_type": "stream",
          "name": "stdout",
          "text": [
            "August 15th 1947\n"
          ]
        }
      ]
    },
    {
      "cell_type": "markdown",
      "source": [
        "Question 15- Write a Python program to search some literals strings in a string.\n",
        "Sample text : 'The quick brown fox jumps over the lazy dog.'\n",
        "Searched words : 'fox', 'dog', 'horse'"
      ],
      "metadata": {
        "id": "tcdt36v5aDv1"
      }
    },
    {
      "cell_type": "code",
      "source": [
        "def search_words(text,words):\n",
        "  for word in words:\n",
        "    if re.search(word, text):\n",
        "      print('The word {} is present in the text'.format(word))\n",
        "    else:\n",
        "      print('The word {} is not present in the text'.format(word))\n",
        "\n",
        "search_words(\"The quick brown fox jumps over the lazy dog\", ['fox','dog','horse'])\n"
      ],
      "metadata": {
        "colab": {
          "base_uri": "https://localhost:8080/"
        },
        "id": "XbANEa6ITlBq",
        "outputId": "e3e5a059-93dd-4821-89a3-dba44dd4e486"
      },
      "execution_count": 27,
      "outputs": [
        {
          "output_type": "stream",
          "name": "stdout",
          "text": [
            "The word fox is present in the text\n",
            "The word dog is present in the text\n",
            "The word horse is not present in the text\n"
          ]
        }
      ]
    },
    {
      "cell_type": "markdown",
      "source": [
        "Question 16- Write a Python program to search a literals string in a string and also find the location within the original string where the pattern occurs\n",
        "Sample text : 'The quick brown fox jumps over the lazy dog.'\n",
        "Searched words : 'fox'"
      ],
      "metadata": {
        "id": "uF1u3OZBtxno"
      }
    },
    {
      "cell_type": "code",
      "source": [
        "def search_word_with_index(text,words):\n",
        "  for word in words:\n",
        "    x = re.search(word,text)\n",
        "    if x:\n",
        "      print('The word {} is present in the text and it starts from {} and ends at {}'.format(word, x.start(), x.end()))\n",
        "    else:\n",
        "      print('The word {} is not present in the text'.format(word))\n",
        "\n",
        "search_word_with_index(\"The quick brown fox jumps over the lazy dog\", ['fox','dog','horse'])"
      ],
      "metadata": {
        "colab": {
          "base_uri": "https://localhost:8080/"
        },
        "id": "3RcVZuUmrZux",
        "outputId": "bad63846-b72b-48a5-9ef7-3fb739337701"
      },
      "execution_count": 28,
      "outputs": [
        {
          "output_type": "stream",
          "name": "stdout",
          "text": [
            "The word fox is present in the text and it starts from 16 and ends at 19\n",
            "The word dog is present in the text and it starts from 40 and ends at 43\n",
            "The word horse is not present in the text\n"
          ]
        }
      ]
    },
    {
      "cell_type": "markdown",
      "source": [
        "Question 17- Write a Python program to find the substrings within a string.\n",
        "Sample text : 'Python exercises, PHP exercises, C# exercises'\n",
        "Pattern : 'exercises'."
      ],
      "metadata": {
        "id": "opzOmyyLuw3x"
      }
    },
    {
      "cell_type": "code",
      "source": [
        "def substring(text, pattern):\n",
        "  x = re.finditer(pattern,text)\n",
        "  if x:\n",
        "    for i in x:\n",
        "      print(\"The word {} is present at {} and ends at {}.\".format(i.group(),i.start(),i.end()))\n",
        "  else:\n",
        "    print('The word {} is not present in the text'.format(x))\n",
        "\n",
        "text = 'Python exercises, PHP exercises, C# exercises'\n",
        "pattern = 'exercises'\n",
        "substring(text, pattern)"
      ],
      "metadata": {
        "colab": {
          "base_uri": "https://localhost:8080/"
        },
        "id": "3q_xAoYwurUF",
        "outputId": "d1cdac94-9735-46c2-8901-7d99a0ff1ba7"
      },
      "execution_count": 29,
      "outputs": [
        {
          "output_type": "stream",
          "name": "stdout",
          "text": [
            "The word exercises is present at 7 and ends at 16.\n",
            "The word exercises is present at 22 and ends at 31.\n",
            "The word exercises is present at 36 and ends at 45.\n"
          ]
        }
      ]
    },
    {
      "cell_type": "markdown",
      "source": [
        "Question 18- Write a Python program to find the occurrence and position of the substrings within a string."
      ],
      "metadata": {
        "id": "uYWoJ8gLwLoH"
      }
    },
    {
      "cell_type": "code",
      "source": [
        "def occurance_and_position(text, pattern):\n",
        "  x = re.finditer(pattern,text)\n",
        "  if x:\n",
        "    for i in x:\n",
        "      print(\"The word {} is present at {} and ends at {}.\".format(i.group(),i.start(),i.end()))\n",
        "  else:\n",
        "    print('The word {} is not present in the text'.format(x))\n",
        "\n",
        "text = 'Python exercises, PHP exercises, C# exercises'\n",
        "pattern = 'exercises'\n",
        "occurance_and_position(text, pattern)"
      ],
      "metadata": {
        "colab": {
          "base_uri": "https://localhost:8080/"
        },
        "id": "pEjysgy-vt6p",
        "outputId": "bbe3eb7d-6aa9-4eb0-c942-417794ee7075"
      },
      "execution_count": 30,
      "outputs": [
        {
          "output_type": "stream",
          "name": "stdout",
          "text": [
            "The word exercises is present at 7 and ends at 16.\n",
            "The word exercises is present at 22 and ends at 31.\n",
            "The word exercises is present at 36 and ends at 45.\n"
          ]
        }
      ]
    },
    {
      "cell_type": "markdown",
      "source": [
        "Question 19- Write a Python program to convert a date of yyyy-mm-dd format to dd-mm-yyyy format."
      ],
      "metadata": {
        "id": "cGMbjJt1wiju"
      }
    },
    {
      "cell_type": "code",
      "source": [
        "def format_date(text_date):\n",
        "  pattern = r'(\\d{4})-(\\d{2})-(\\d{2})'\n",
        "  ans = re.sub(pattern, r'\\3-\\2-\\1', text_date)\n",
        "  print(ans)\n",
        "\n",
        "format_date('2024-01-10')"
      ],
      "metadata": {
        "colab": {
          "base_uri": "https://localhost:8080/"
        },
        "id": "mL0xLEa7whfF",
        "outputId": "b0e8dae1-4cb5-4e50-a434-5605d4d77be1"
      },
      "execution_count": 31,
      "outputs": [
        {
          "output_type": "stream",
          "name": "stdout",
          "text": [
            "10-01-2024\n"
          ]
        }
      ]
    },
    {
      "cell_type": "markdown",
      "source": [
        "Question 20- Create a function in python to find all decimal numbers with a precision of 1 or 2 in a string. The use of the re.compile() method is mandatory.\n",
        "Sample Text: \"01.12 0132.123 2.31875 145.8 3.01 27.25 0.25\"\n",
        "Expected Output: ['01.12', '145.8', '3.01', '27.25', '0.25']"
      ],
      "metadata": {
        "id": "87_4GSOFys-i"
      }
    },
    {
      "cell_type": "code",
      "source": [
        "def find_decimal(text):\n",
        "  pattern = r'\\b\\d*\\.\\d{1,2}\\b'\n",
        "  x = re.compile(pattern)\n",
        "  return x.findall(text)\n",
        "\n",
        "text = \"01.12 0132.123 2.31875 145.8 3.01 27.25 0.25\"\n",
        "find_decimal(text)"
      ],
      "metadata": {
        "colab": {
          "base_uri": "https://localhost:8080/"
        },
        "id": "UKGZ-IETx_Ab",
        "outputId": "03ecab57-da71-4a5f-8d69-054bf134cb5f"
      },
      "execution_count": 32,
      "outputs": [
        {
          "output_type": "execute_result",
          "data": {
            "text/plain": [
              "['01.12', '145.8', '3.01', '27.25', '0.25']"
            ]
          },
          "metadata": {},
          "execution_count": 32
        }
      ]
    },
    {
      "cell_type": "markdown",
      "source": [
        "Question 21- Write a Python program to separate and print the numbers and their position of a given string."
      ],
      "metadata": {
        "id": "JSInnu5K0THA"
      }
    },
    {
      "cell_type": "code",
      "source": [
        "import re\n",
        "def digit_position(text):\n",
        "\n",
        "  pattern = r'\\d+'\n",
        "\n",
        "  words = re.finditer(pattern, text)\n",
        "  if words:\n",
        "    for word in words:\n",
        "      print('The number {} is present from position {} to {} in the given string.'.format(word.group(), word.start(),word.end()-1))\n",
        "  else:\n",
        "    print('No numbers are present in the string')\n",
        "\n",
        "digit_position('The price is $20 and the quantity is 10.')"
      ],
      "metadata": {
        "colab": {
          "base_uri": "https://localhost:8080/"
        },
        "id": "CuKVTfWNzL8t",
        "outputId": "fa03140a-1a0f-4286-844b-e9238e4507d8"
      },
      "execution_count": 33,
      "outputs": [
        {
          "output_type": "stream",
          "name": "stdout",
          "text": [
            "The number 20 is present from position 14 to 15 in the given string.\n",
            "The number 10 is present from position 37 to 38 in the given string.\n"
          ]
        }
      ]
    },
    {
      "cell_type": "markdown",
      "source": [
        "Question 22- Write a regular expression in python program to extract maximum/largest numeric value from a string.\n",
        "Sample Text:  'My marks in each semester are: 947, 896, 926, 524, 734, 950, 642'\n",
        "Expected Output: 950"
      ],
      "metadata": {
        "id": "-EYbfOYry1DB"
      }
    },
    {
      "cell_type": "code",
      "source": [
        "def max_digit(text):\n",
        "\n",
        "  pattern = '\\d+'\n",
        "\n",
        "  lis=[]\n",
        "\n",
        "  nums =  re.finditer(pattern,text)\n",
        "  if nums:\n",
        "    for num in nums:\n",
        "      lis.append(num.group())\n",
        "\n",
        "  if len(lis)!=0:\n",
        "    print(max(lis))\n",
        "  else:\n",
        "    print('No numbers were found')\n",
        "\n",
        "max_digit('My marks in each semester are: 947, 896, 926, 524, 734, 950, 642')\n",
        "\n"
      ],
      "metadata": {
        "colab": {
          "base_uri": "https://localhost:8080/"
        },
        "id": "rU15JK3NyYAC",
        "outputId": "050c9aec-e345-4f97-f091-b9b01d409b83"
      },
      "execution_count": 34,
      "outputs": [
        {
          "output_type": "stream",
          "name": "stdout",
          "text": [
            "950\n"
          ]
        }
      ]
    },
    {
      "cell_type": "markdown",
      "source": [
        "Question 23- Create a function in python to insert spaces between words starting with capital letters.\n",
        "Sample Text: “RegularExpressionIsAnImportantTopicInPython\"\n",
        "Expected Output: Regular Expression Is An Important Topic In Python"
      ],
      "metadata": {
        "id": "HG8H_WF_0Idj"
      }
    },
    {
      "cell_type": "code",
      "source": [
        "def insert_spaces_capital(text):\n",
        "\n",
        "  pattern = r'([A-Z])'\n",
        "\n",
        "  words = re.sub(pattern, r' \\1',text)\n",
        "  print(words)\n",
        "\n",
        "insert_spaces_capital('RegularExpressionIsAnImportantTopicInPython')"
      ],
      "metadata": {
        "colab": {
          "base_uri": "https://localhost:8080/"
        },
        "id": "FZEiLWpPzv_0",
        "outputId": "ee01da1e-0eb3-4959-b2f6-387d59e8e58f"
      },
      "execution_count": 35,
      "outputs": [
        {
          "output_type": "stream",
          "name": "stdout",
          "text": [
            " Regular Expression Is An Important Topic In Python\n"
          ]
        }
      ]
    },
    {
      "cell_type": "code",
      "source": [
        "pattern = r'[A-Z][a-z]+'\n",
        "\n",
        "text = 'RegularExpressionIsAnImportantTopicInPython'\n",
        "\n",
        "print(' '.join(re.findall(pattern,text)))"
      ],
      "metadata": {
        "colab": {
          "base_uri": "https://localhost:8080/"
        },
        "id": "hzBaEpHlEfds",
        "outputId": "13f1a40a-c6dc-4b45-ccc3-c3e2ff0fba58"
      },
      "execution_count": 36,
      "outputs": [
        {
          "output_type": "stream",
          "name": "stdout",
          "text": [
            "Regular Expression Is An Important Topic In Python\n"
          ]
        }
      ]
    },
    {
      "cell_type": "markdown",
      "source": [
        "\n",
        "Question 24- Python regex to find sequences of one upper case letter followed by lower case letters"
      ],
      "metadata": {
        "id": "QXKriFeo5FLf"
      }
    },
    {
      "cell_type": "code",
      "source": [
        "def sequence(text):\n",
        "\n",
        "  pattern = r'\\b[A-Z][a-z]*\\b'\n",
        "\n",
        "  words = re.findall(pattern,text)\n",
        "  if words:\n",
        "    for word in words:\n",
        "      print(word)\n",
        "  else:\n",
        "    print('No such words present.')\n",
        "\n",
        "sequence('I Like To Play Football.')"
      ],
      "metadata": {
        "colab": {
          "base_uri": "https://localhost:8080/"
        },
        "id": "82z0TeBW05tx",
        "outputId": "e0af98d1-f3ac-485d-b866-0901eaaf3e2a"
      },
      "execution_count": 37,
      "outputs": [
        {
          "output_type": "stream",
          "name": "stdout",
          "text": [
            "I\n",
            "Like\n",
            "To\n",
            "Play\n",
            "Football\n"
          ]
        }
      ]
    },
    {
      "cell_type": "markdown",
      "source": [
        "Question 25- Write a Python program to remove continuous duplicate words from Sentence using Regular Expression.\n",
        "Sample Text: \"Hello hello world world\"\n",
        "Expected Output: Hello hello world"
      ],
      "metadata": {
        "id": "jgDdQsuv6MIK"
      }
    },
    {
      "cell_type": "code",
      "source": [
        "def duplicate(text):\n",
        "\n",
        "  pattern = r'\\b([A-Za-z0-9]+)(\\s+\\1)+\\b'\n",
        "  words = re.sub(pattern, r'\\1', text)\n",
        "  return words\n",
        "\n",
        "text = \"Hello hello world world\"\n",
        "duplicate(text)"
      ],
      "metadata": {
        "colab": {
          "base_uri": "https://localhost:8080/",
          "height": 36
        },
        "id": "QaP3QfmE2LQh",
        "outputId": "f806a3f5-830a-44a2-e604-5bff21d54015"
      },
      "execution_count": 38,
      "outputs": [
        {
          "output_type": "execute_result",
          "data": {
            "text/plain": [
              "'Hello hello world'"
            ],
            "application/vnd.google.colaboratory.intrinsic+json": {
              "type": "string"
            }
          },
          "metadata": {},
          "execution_count": 38
        }
      ]
    },
    {
      "cell_type": "markdown",
      "source": [
        "Question 26-  Write a python program using RegEx to accept string ending with alphanumeric character."
      ],
      "metadata": {
        "id": "2_Py6Abi8dpq"
      }
    },
    {
      "cell_type": "code",
      "source": [
        "def alphanum(text):\n",
        "\n",
        "  pattern = r'^.*[A-Za-z0-9]$'\n",
        "\n",
        "  word = re.search(pattern, text)\n",
        "  if word:\n",
        "    print('The string ends with alphanumeric character.')\n",
        "  else:\n",
        "    print('The string does not end with alphanumeric character.')\n",
        "\n",
        "text = 'Let us play a game'\n",
        "alphanum(text)\n"
      ],
      "metadata": {
        "colab": {
          "base_uri": "https://localhost:8080/"
        },
        "id": "8ZFaYaMs3_5p",
        "outputId": "8566db2b-1a1d-474e-ba6d-15152de71b8b"
      },
      "execution_count": 39,
      "outputs": [
        {
          "output_type": "stream",
          "name": "stdout",
          "text": [
            "The string ends with alphanumeric character.\n"
          ]
        }
      ]
    },
    {
      "cell_type": "markdown",
      "source": [
        "Question 27-Write a python program using RegEx to extract the hashtags.\n",
        "Sample Text:  \"\"\"RT @kapil_kausik: #Doltiwal I mean #xyzabc is \"hurt\" by #Demonetization as the same has rendered USELESS <ed><U+00A0><U+00BD><ed><U+00B1><U+0089> \"acquired funds\" No wo\"\"\"\n",
        "Expected Output: ['#Doltiwal', '#xyzabc', '#Demonetization']"
      ],
      "metadata": {
        "id": "brvQaxfg-L23"
      }
    },
    {
      "cell_type": "code",
      "source": [
        "def hashtag(text):\n",
        "\n",
        "  pattern = r'#+[A-Za-z0-9]+'\n",
        "\n",
        "  words = re.findall(pattern, text)\n",
        "  print(words)\n",
        "\n",
        "text = 'RT @kapil_kausik: #Doltiwal I mean #xyzabc is \"hurt\" by #Demonetization as the same has rendered USELESS <U+00A0><U+00BD><U+00B1><U+0089> \"acquired funds\" No wo'\n",
        "hashtag(text)"
      ],
      "metadata": {
        "colab": {
          "base_uri": "https://localhost:8080/"
        },
        "id": "UZNA9bfr4G13",
        "outputId": "e317f18f-a84c-4aa7-a4e3-a7291552c648"
      },
      "execution_count": 40,
      "outputs": [
        {
          "output_type": "stream",
          "name": "stdout",
          "text": [
            "['#Doltiwal', '#xyzabc', '#Demonetization']\n"
          ]
        }
      ]
    },
    {
      "cell_type": "markdown",
      "source": [
        "Question 28- Write a python program using RegEx to remove <U+..> like symbols\n",
        "Check the below sample text, there are strange symbols something of the sort <U+..> all over the place. You need to come up with a general Regex expression that will cover all such symbols.\n",
        "Sample Text: \"@Jags123456 Bharat band on 28??<ed><U+00A0><U+00BD><ed><U+00B8><U+0082>Those who  are protesting #demonetization  are all different party leaders\"\n",
        "Expected Output: @Jags123456 Bharat band on 28??<ed><ed>Those who  are protesting #demonetization  are all different party leaders"
      ],
      "metadata": {
        "id": "DO3OuW_EBNoB"
      }
    },
    {
      "cell_type": "code",
      "source": [
        "def remove_weird_symbol(text):\n",
        "\n",
        "  pattern = '<U\\+.*>'\n",
        "\n",
        "  words = re.sub(pattern , r'', text)\n",
        "\n",
        "  print(words)\n",
        "\n",
        "text = \"@Jags123456 Bharat band on 28??<U+00A0><U+00BD><U+00B8><U+0082>Those who are protesting #demonetization are all different party leaders\"\n",
        "remove_weird_symbol(text)"
      ],
      "metadata": {
        "colab": {
          "base_uri": "https://localhost:8080/"
        },
        "id": "hjQHE2q5-7Dz",
        "outputId": "6cb7348d-d729-4e30-9bac-6d9a7a210c8c"
      },
      "execution_count": 41,
      "outputs": [
        {
          "output_type": "stream",
          "name": "stdout",
          "text": [
            "@Jags123456 Bharat band on 28??Those who are protesting #demonetization are all different party leaders\n"
          ]
        }
      ]
    },
    {
      "cell_type": "markdown",
      "source": [
        "Question 29- Write a python program to extract dates from the text stored in the text file.\n",
        "Sample Text: Ron was born on 12-09-1992 and he was admitted to school 15-12-1999.\n",
        "Note- Store this sample text in the file and then extract dates."
      ],
      "metadata": {
        "id": "DOgOHq3VByWr"
      }
    },
    {
      "cell_type": "code",
      "source": [
        "with open('date_new.txt', 'w') as file:\n",
        "    file.write('Ron was born on 12-09-1992 and he was admitted to school 15-12-1999')\n",
        "\n",
        "with open('date_new.txt', 'r') as file:\n",
        "    text = file.read()\n",
        "\n",
        "def find_date(text):\n",
        "\n",
        "  pattern = r'\\b\\d{2}-\\d{2}-\\d{4}\\b'\n",
        "\n",
        "  words = re.findall(pattern,  text)\n",
        "\n",
        "  print(words)\n",
        "\n",
        "find_date(text)"
      ],
      "metadata": {
        "colab": {
          "base_uri": "https://localhost:8080/"
        },
        "id": "L-8KDeTPATvk",
        "outputId": "e93ba651-a7d6-46b3-cb97-7eef1c421a26"
      },
      "execution_count": 42,
      "outputs": [
        {
          "output_type": "stream",
          "name": "stdout",
          "text": [
            "['12-09-1992', '15-12-1999']\n"
          ]
        }
      ]
    },
    {
      "cell_type": "markdown",
      "source": [
        "Question 30- Create a function in python to remove all words from a string of length between 2 and 4.\n",
        "The use of the re.compile() method is mandatory.\n",
        "Sample Text: \"The following example creates an ArrayList with a capacity of 50 elements. 4 elements are then added to the ArrayList and the ArrayList is trimmed accordingly.\"\n",
        "Expected Output:  following example creates ArrayList a capacity elements. 4 elements added ArrayList ArrayList trimmed accordingly."
      ],
      "metadata": {
        "id": "J3_hCf8eEksy"
      }
    },
    {
      "cell_type": "code",
      "source": [
        "def remove_length_2_4(text):\n",
        "\n",
        "  pattern = re.compile(r'\\b[A-Za-z0-9]{2,4}\\b')\n",
        "\n",
        "  words = pattern.sub('', text)\n",
        "\n",
        "  print(words)\n",
        "\n",
        "text = \"The following example creates an ArrayList with a capacity of 50 elements. 4 elements are then added to the ArrayList and the ArrayList is trimmed accordingly.\"\n",
        "\n",
        "remove_length_2_4(text)"
      ],
      "metadata": {
        "colab": {
          "base_uri": "https://localhost:8080/"
        },
        "id": "Hoe5s7p6Cxqu",
        "outputId": "adfdc412-ed9d-4d8c-ef23-f95a974c4634"
      },
      "execution_count": 43,
      "outputs": [
        {
          "output_type": "stream",
          "name": "stdout",
          "text": [
            " following example creates  ArrayList  a capacity   elements. 4 elements   added   ArrayList   ArrayList  trimmed accordingly.\n"
          ]
        }
      ]
    }
  ]
}