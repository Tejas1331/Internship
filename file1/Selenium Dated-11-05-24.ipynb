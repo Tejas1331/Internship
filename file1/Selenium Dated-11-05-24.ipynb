{
 "cells": [
  {
   "cell_type": "markdown",
   "id": "1e890a84",
   "metadata": {},
   "source": [
    "## Q1"
   ]
  },
  {
   "cell_type": "code",
   "execution_count": 2,
   "id": "644ae73a",
   "metadata": {},
   "outputs": [],
   "source": [
    "from selenium import webdriver\n",
    "from selenium.webdriver.chrome.service import Service\n",
    "from selenium.webdriver.chrome.options import Options\n",
    "from webdriver_manager.chrome import ChromeDriverManager\n",
    "from selenium.webdriver.common.by import By\n",
    "import pandas as pd"
   ]
  },
  {
   "cell_type": "code",
   "execution_count": 61,
   "id": "8c9654a4",
   "metadata": {},
   "outputs": [],
   "source": [
    "options = Options()\n",
    "options.add_experimental_option(\"detach\", True) # To keep the browser open \n",
    "\n",
    "driver = webdriver.Chrome(service = Service(ChromeDriverManager().install()), options=options) # Initializing the web driver according to the chrome version \n",
    "\n",
    "driver.get('https://www.shine.com/')"
   ]
  },
  {
   "cell_type": "code",
   "execution_count": 62,
   "id": "baf91d04",
   "metadata": {},
   "outputs": [],
   "source": [
    "job_title = driver.find_element(By.ID, 'id_q')\n",
    "job_title.send_keys('Data Analyst')"
   ]
  },
  {
   "cell_type": "code",
   "execution_count": 63,
   "id": "80fbaad1",
   "metadata": {},
   "outputs": [],
   "source": [
    "job_location = driver.find_element(By.ID, 'id_loc')\n",
    "job_location.send_keys('Bangalore')"
   ]
  },
  {
   "cell_type": "code",
   "execution_count": 64,
   "id": "8f3ac1da",
   "metadata": {},
   "outputs": [],
   "source": [
    "# Clicking the search button\n",
    "search_button = driver.find_element(By.CLASS_NAME, 'btn.btn-secondary.undefined')\n",
    "search_button.click()"
   ]
  },
  {
   "cell_type": "code",
   "execution_count": 65,
   "id": "f03af5a0",
   "metadata": {},
   "outputs": [],
   "source": [
    "job_titles = []\n",
    "job_locations = []\n",
    "job_locations_extra = []\n",
    "company_names =[]\n",
    "experience_required = []\n",
    "\n",
    "# Job Titles\n",
    "job_title = driver.find_elements(By.XPATH, '//strong[@class=\"jobCard_pReplaceH2__xWmHg\"]')\n",
    "for i in job_title[0:10]:\n",
    "    x = i.text\n",
    "    job_titles.append(x)\n",
    "    \n",
    "# Job Locations\n",
    "job_location = driver.find_elements(By.XPATH, '//div[@class=\" jobCard_jobCard_lists_item__YxRkV jobCard_locationIcon__zrWt2\"]')\n",
    "for i in job_location[0:10]:\n",
    "    x =i.text\n",
    "    job_locations.append(x)\n",
    "    \n",
    "# Company Names\n",
    "company_name = driver.find_elements(By.XPATH, '//div[@class=\"jobCard_jobCard_cName__mYnow\"]/span')\n",
    "for i in company_name[0:10]:\n",
    "    x = i.text\n",
    "    company_names.append(x)\n",
    "    \n",
    "# Experience Required\n",
    "experience = driver.find_elements(By.XPATH, '//div[@class=\" jobCard_jobCard_lists_item__YxRkV jobCard_jobIcon__3FB1t\"]')\n",
    "for i in experience[0:10]:\n",
    "    x = i.text\n",
    "    experience_required.append(x)"
   ]
  },
  {
   "cell_type": "code",
   "execution_count": 66,
   "id": "eb225ae4",
   "metadata": {},
   "outputs": [],
   "source": [
    "df = pd.DataFrame({'Title': job_titles, 'Locations': job_locations, 'Company': company_names, 'Experience': experience_required})"
   ]
  },
  {
   "cell_type": "code",
   "execution_count": 67,
   "id": "1b7d08b5",
   "metadata": {},
   "outputs": [
    {
     "data": {
      "text/html": [
       "<div>\n",
       "<style scoped>\n",
       "    .dataframe tbody tr th:only-of-type {\n",
       "        vertical-align: middle;\n",
       "    }\n",
       "\n",
       "    .dataframe tbody tr th {\n",
       "        vertical-align: top;\n",
       "    }\n",
       "\n",
       "    .dataframe thead th {\n",
       "        text-align: right;\n",
       "    }\n",
       "</style>\n",
       "<table border=\"1\" class=\"dataframe\">\n",
       "  <thead>\n",
       "    <tr style=\"text-align: right;\">\n",
       "      <th></th>\n",
       "      <th>Title</th>\n",
       "      <th>Locations</th>\n",
       "      <th>Company</th>\n",
       "      <th>Experience</th>\n",
       "    </tr>\n",
       "  </thead>\n",
       "  <tbody>\n",
       "    <tr>\n",
       "      <th>0</th>\n",
       "      <td>Data Analyst , Senior Data Analyst , Data Anal...</td>\n",
       "      <td>Bangalore\\n+8</td>\n",
       "      <td>appsoft solutions</td>\n",
       "      <td>0 to 4 Yrs</td>\n",
       "    </tr>\n",
       "    <tr>\n",
       "      <th>1</th>\n",
       "      <td>Data Analyst</td>\n",
       "      <td>Bangalore</td>\n",
       "      <td>valenta bpo solutions pvt. ltd.</td>\n",
       "      <td>4 to 5 Yrs</td>\n",
       "    </tr>\n",
       "    <tr>\n",
       "      <th>2</th>\n",
       "      <td>Data Analyst (Power BI, Python, SQL)- Internal...</td>\n",
       "      <td>Bangalore</td>\n",
       "      <td>talent leads hr solutions pvt ltd</td>\n",
       "      <td>3 to 8 Yrs</td>\n",
       "    </tr>\n",
       "    <tr>\n",
       "      <th>3</th>\n",
       "      <td>Data Analyst Opening</td>\n",
       "      <td>Bangalore\\n+12</td>\n",
       "      <td>radhika enterprises</td>\n",
       "      <td>0 to 4 Yrs</td>\n",
       "    </tr>\n",
       "    <tr>\n",
       "      <th>4</th>\n",
       "      <td>Data Analyst Fresher and Experience Vacancy</td>\n",
       "      <td>Bangalore\\n+12</td>\n",
       "      <td>radhika enterprises</td>\n",
       "      <td>0 to 4 Yrs</td>\n",
       "    </tr>\n",
       "  </tbody>\n",
       "</table>\n",
       "</div>"
      ],
      "text/plain": [
       "                                               Title       Locations  \\\n",
       "0  Data Analyst , Senior Data Analyst , Data Anal...   Bangalore\\n+8   \n",
       "1                                       Data Analyst       Bangalore   \n",
       "2  Data Analyst (Power BI, Python, SQL)- Internal...       Bangalore   \n",
       "3                               Data Analyst Opening  Bangalore\\n+12   \n",
       "4        Data Analyst Fresher and Experience Vacancy  Bangalore\\n+12   \n",
       "\n",
       "                             Company  Experience  \n",
       "0                  appsoft solutions  0 to 4 Yrs  \n",
       "1    valenta bpo solutions pvt. ltd.  4 to 5 Yrs  \n",
       "2  talent leads hr solutions pvt ltd  3 to 8 Yrs  \n",
       "3                radhika enterprises  0 to 4 Yrs  \n",
       "4                radhika enterprises  0 to 4 Yrs  "
      ]
     },
     "execution_count": 67,
     "metadata": {},
     "output_type": "execute_result"
    }
   ],
   "source": [
    "df.head()"
   ]
  },
  {
   "cell_type": "code",
   "execution_count": 68,
   "id": "eb03c299",
   "metadata": {},
   "outputs": [
    {
     "data": {
      "text/plain": [
       "['0 to 4 Yrs',\n",
       " '4 to 5 Yrs',\n",
       " '3 to 8 Yrs',\n",
       " '0 to 4 Yrs',\n",
       " '0 to 4 Yrs',\n",
       " '0 to 1 Yr',\n",
       " '0 to 4 Yrs',\n",
       " '0 to 4 Yrs',\n",
       " '4 to 6 Yrs',\n",
       " '5 to 8 Yrs']"
      ]
     },
     "execution_count": 68,
     "metadata": {},
     "output_type": "execute_result"
    }
   ],
   "source": [
    "experience_required"
   ]
  },
  {
   "cell_type": "code",
   "execution_count": 69,
   "id": "85e13fd1",
   "metadata": {},
   "outputs": [
    {
     "data": {
      "text/plain": [
       "['appsoft solutions',\n",
       " 'valenta bpo solutions pvt. ltd.',\n",
       " 'talent leads hr solutions pvt ltd',\n",
       " 'radhika enterprises',\n",
       " 'radhika enterprises',\n",
       " 'techno endura',\n",
       " 'radhika enterprises',\n",
       " 'radhika enterprises',\n",
       " 'mackenzie modern it solutions priva...',\n",
       " 'white horse manpower consultancy (p...']"
      ]
     },
     "execution_count": 69,
     "metadata": {},
     "output_type": "execute_result"
    }
   ],
   "source": [
    "company_names"
   ]
  },
  {
   "cell_type": "code",
   "execution_count": 71,
   "id": "f2a207a2",
   "metadata": {},
   "outputs": [
    {
     "data": {
      "text/plain": [
       "['Bangalore\\n+8',\n",
       " 'Bangalore',\n",
       " 'Bangalore',\n",
       " 'Bangalore\\n+12',\n",
       " 'Bangalore\\n+12',\n",
       " 'Bangalore\\n+6',\n",
       " 'Bangalore\\n+12',\n",
       " 'Bangalore\\n+12',\n",
       " 'Bangalore\\n+6',\n",
       " 'Bangalore']"
      ]
     },
     "execution_count": 71,
     "metadata": {},
     "output_type": "execute_result"
    }
   ],
   "source": [
    "job_locations"
   ]
  },
  {
   "cell_type": "code",
   "execution_count": 72,
   "id": "93c00085",
   "metadata": {},
   "outputs": [
    {
     "data": {
      "text/plain": [
       "['Data Analyst , Senior Data Analyst , Data Analyst - Tec ...',\n",
       " 'Data Analyst',\n",
       " 'Data Analyst (Power BI, Python, SQL)- Internal Audit do ...',\n",
       " 'Data Analyst Opening',\n",
       " 'Data Analyst Fresher and Experience Vacancy',\n",
       " 'Clinical Data Analyst',\n",
       " 'Data Analyst Recruitment',\n",
       " 'Data Analyst Recruitment',\n",
       " 'Business Analyst',\n",
       " 'Data Governance Analyst']"
      ]
     },
     "execution_count": 72,
     "metadata": {},
     "output_type": "execute_result"
    }
   ],
   "source": [
    "job_titles"
   ]
  },
  {
   "cell_type": "markdown",
   "id": "5209fb19",
   "metadata": {},
   "source": [
    "## Q2"
   ]
  },
  {
   "cell_type": "code",
   "execution_count": 89,
   "id": "db4c9bf2",
   "metadata": {},
   "outputs": [],
   "source": [
    "from selenium import webdriver\n",
    "from selenium.webdriver.chrome.service import Service\n",
    "from selenium.webdriver.chrome.options import Options\n",
    "from webdriver_manager.chrome import ChromeDriverManager\n",
    "from selenium.webdriver.common.by import By\n",
    "import pandas as pd"
   ]
  },
  {
   "cell_type": "code",
   "execution_count": 90,
   "id": "d83d35fa",
   "metadata": {},
   "outputs": [],
   "source": [
    "options = Options()\n",
    "options.add_experimental_option(\"detach\", True) # To keep the browser open\n",
    "\n",
    "driver = webdriver.Chrome(service = Service(ChromeDriverManager().install()), options=options) # Initializing the web driver according to the chrome version\n",
    "\n",
    "driver.get('https://www.naukri.com/')"
   ]
  },
  {
   "cell_type": "code",
   "execution_count": 91,
   "id": "cb8c40a3",
   "metadata": {},
   "outputs": [],
   "source": [
    "job_title = driver.find_element(By.CLASS_NAME, 'suggestor-input ')\n",
    "job_title.send_keys('Data Analyst')"
   ]
  },
  {
   "cell_type": "code",
   "execution_count": 92,
   "id": "0a5336d6",
   "metadata": {},
   "outputs": [],
   "source": [
    "job_location = driver.find_element(By.XPATH, '//*[@id=\"root\"]/div[7]/div/div/div[5]/div/div/div/div[1]/div/input')\n",
    "job_location.send_keys('Bangalore')"
   ]
  },
  {
   "cell_type": "code",
   "execution_count": 93,
   "id": "2dd0cca9",
   "metadata": {},
   "outputs": [],
   "source": [
    "# Clicking the search button\n",
    "search_button = driver.find_element(By.CLASS_NAME, 'qsbSubmit')\n",
    "search_button.click()"
   ]
  },
  {
   "cell_type": "code",
   "execution_count": 97,
   "id": "7d17dc9d",
   "metadata": {},
   "outputs": [],
   "source": [
    "job_titles = []\n",
    "job_locations = []\n",
    "company_names =[]\n",
    "experience_required = []\n",
    "\n",
    "# Job Titles\n",
    "job_title = driver.find_elements(By.XPATH, '//div[@class=\" row1\"]/a')\n",
    "for i in job_title[0:10]:\n",
    "    x = i.text\n",
    "    job_titles.append(x)\n",
    "    \n",
    "# Job Locations\n",
    "job_location = driver.find_elements(By.XPATH, '//span[@class=\"locWdth\"]')\n",
    "for i in job_location[0:10]:\n",
    "    x =i.text\n",
    "    job_locations.append(x)\n",
    "    \n",
    "# Company Names\n",
    "company_name = driver.find_elements(By.XPATH, '//a[@class=\" comp-name mw-25\"]')\n",
    "for i in company_name[0:10]:\n",
    "    x = i.text\n",
    "    company_names.append(x)\n",
    "    \n",
    "# Experience Required\n",
    "experience = driver.find_elements(By.XPATH, '//span[@class=\"ni-job-tuple-icon ni-job-tuple-icon-srp-experience exp\"]')\n",
    "for i in experience[0:10]:\n",
    "    x = i.text\n",
    "    experience_required.append(x)"
   ]
  },
  {
   "cell_type": "code",
   "execution_count": 98,
   "id": "9cdcc5ba",
   "metadata": {},
   "outputs": [],
   "source": [
    "df = pd.DataFrame({'Title': job_titles, 'Locations': job_locations, 'Company': company_names, 'Experience': experience_required})"
   ]
  },
  {
   "cell_type": "code",
   "execution_count": 99,
   "id": "bb4af30f",
   "metadata": {},
   "outputs": [
    {
     "data": {
      "text/html": [
       "<div>\n",
       "<style scoped>\n",
       "    .dataframe tbody tr th:only-of-type {\n",
       "        vertical-align: middle;\n",
       "    }\n",
       "\n",
       "    .dataframe tbody tr th {\n",
       "        vertical-align: top;\n",
       "    }\n",
       "\n",
       "    .dataframe thead th {\n",
       "        text-align: right;\n",
       "    }\n",
       "</style>\n",
       "<table border=\"1\" class=\"dataframe\">\n",
       "  <thead>\n",
       "    <tr style=\"text-align: right;\">\n",
       "      <th></th>\n",
       "      <th>Title</th>\n",
       "      <th>Locations</th>\n",
       "      <th>Company</th>\n",
       "      <th>Experience</th>\n",
       "    </tr>\n",
       "  </thead>\n",
       "  <tbody>\n",
       "    <tr>\n",
       "      <th>0</th>\n",
       "      <td>Data Analyst</td>\n",
       "      <td>Hybrid - Kolkata, Bengaluru</td>\n",
       "      <td>Ltimindtree</td>\n",
       "      <td>12-17 Yrs</td>\n",
       "    </tr>\n",
       "    <tr>\n",
       "      <th>1</th>\n",
       "      <td>Data Analyst</td>\n",
       "      <td>Hybrid - Bengaluru</td>\n",
       "      <td>Freshmenu</td>\n",
       "      <td>3-5 Yrs</td>\n",
       "    </tr>\n",
       "    <tr>\n",
       "      <th>2</th>\n",
       "      <td>Data Analyst</td>\n",
       "      <td>Bengaluru</td>\n",
       "      <td>Salesforce</td>\n",
       "      <td>3-7 Yrs</td>\n",
       "    </tr>\n",
       "    <tr>\n",
       "      <th>3</th>\n",
       "      <td>Data Analyst</td>\n",
       "      <td>Bengaluru</td>\n",
       "      <td>ANZ</td>\n",
       "      <td>2-5 Yrs</td>\n",
       "    </tr>\n",
       "    <tr>\n",
       "      <th>4</th>\n",
       "      <td>Data Analyst</td>\n",
       "      <td>Bengaluru</td>\n",
       "      <td>TMF Group</td>\n",
       "      <td>1-5 Yrs</td>\n",
       "    </tr>\n",
       "  </tbody>\n",
       "</table>\n",
       "</div>"
      ],
      "text/plain": [
       "          Title                    Locations      Company Experience\n",
       "0  Data Analyst  Hybrid - Kolkata, Bengaluru  Ltimindtree  12-17 Yrs\n",
       "1  Data Analyst           Hybrid - Bengaluru    Freshmenu    3-5 Yrs\n",
       "2  Data Analyst                    Bengaluru   Salesforce    3-7 Yrs\n",
       "3  Data Analyst                    Bengaluru          ANZ    2-5 Yrs\n",
       "4  Data Analyst                    Bengaluru    TMF Group    1-5 Yrs"
      ]
     },
     "execution_count": 99,
     "metadata": {},
     "output_type": "execute_result"
    }
   ],
   "source": [
    "df.head()"
   ]
  },
  {
   "cell_type": "code",
   "execution_count": 100,
   "id": "c20b30b5",
   "metadata": {},
   "outputs": [
    {
     "data": {
      "text/plain": [
       "['12-17 Yrs',\n",
       " '3-5 Yrs',\n",
       " '3-7 Yrs',\n",
       " '2-5 Yrs',\n",
       " '1-5 Yrs',\n",
       " '2-4 Yrs',\n",
       " '2-5 Yrs',\n",
       " '2-3 Yrs',\n",
       " '5-8 Yrs',\n",
       " '7-12 Yrs']"
      ]
     },
     "execution_count": 100,
     "metadata": {},
     "output_type": "execute_result"
    }
   ],
   "source": [
    "experience_required"
   ]
  },
  {
   "cell_type": "code",
   "execution_count": 101,
   "id": "6319bda4",
   "metadata": {},
   "outputs": [
    {
     "data": {
      "text/plain": [
       "['Ltimindtree',\n",
       " 'Freshmenu',\n",
       " 'Salesforce',\n",
       " 'ANZ',\n",
       " 'TMF Group',\n",
       " 'Tableau Software',\n",
       " 'Deep Cognition India',\n",
       " 'Askmeoffers',\n",
       " 'Becton Dickinson',\n",
       " 'Valenta Bpo Solutions']"
      ]
     },
     "execution_count": 101,
     "metadata": {},
     "output_type": "execute_result"
    }
   ],
   "source": [
    "company_names"
   ]
  },
  {
   "cell_type": "code",
   "execution_count": 102,
   "id": "c54c595b",
   "metadata": {},
   "outputs": [
    {
     "data": {
      "text/plain": [
       "['Hybrid - Kolkata, Bengaluru',\n",
       " 'Hybrid - Bengaluru',\n",
       " 'Bengaluru',\n",
       " 'Bengaluru',\n",
       " 'Bengaluru',\n",
       " 'Bengaluru',\n",
       " 'Bengaluru',\n",
       " 'Bengaluru',\n",
       " 'Hybrid - Bengaluru',\n",
       " 'Bangalore Rural']"
      ]
     },
     "execution_count": 102,
     "metadata": {},
     "output_type": "execute_result"
    }
   ],
   "source": [
    "job_locations"
   ]
  },
  {
   "cell_type": "code",
   "execution_count": 103,
   "id": "1edf8148",
   "metadata": {},
   "outputs": [
    {
     "data": {
      "text/plain": [
       "['Data Analyst',\n",
       " 'Data Analyst',\n",
       " 'Data Analyst',\n",
       " 'Data Analyst',\n",
       " 'Data Analyst',\n",
       " '',\n",
       " '',\n",
       " '',\n",
       " 'Field Programs Data Analyst',\n",
       " 'Data Analyst']"
      ]
     },
     "execution_count": 103,
     "metadata": {},
     "output_type": "execute_result"
    }
   ],
   "source": [
    "job_titles"
   ]
  },
  {
   "cell_type": "markdown",
   "id": "26c10093",
   "metadata": {},
   "source": [
    "## Q3"
   ]
  },
  {
   "cell_type": "code",
   "execution_count": 87,
   "id": "b6c8e2d0",
   "metadata": {},
   "outputs": [],
   "source": [
    "from selenium import webdriver\n",
    "from selenium.webdriver.chrome.service import Service\n",
    "from selenium.webdriver.chrome.options import Options\n",
    "from webdriver_manager.chrome import ChromeDriverManager\n",
    "from selenium.webdriver.common.by import By\n",
    "import pandas as pd"
   ]
  },
  {
   "cell_type": "code",
   "execution_count": 69,
   "id": "22ce1373",
   "metadata": {},
   "outputs": [],
   "source": [
    "options = Options()\n",
    "options.add_experimental_option(\"detach\", True) # To keep the browser open\n",
    "\n",
    "driver = webdriver.Chrome(service = Service(ChromeDriverManager().install()), options=options) # Initializing the web driver according to the chrome version\n",
    "\n",
    "driver.get('https://www.flipkart.com/')"
   ]
  },
  {
   "cell_type": "code",
   "execution_count": 70,
   "id": "72ebccb3",
   "metadata": {},
   "outputs": [],
   "source": [
    "search_bar = driver.find_element(By.CLASS_NAME, 'Pke_EE')\n",
    "search_bar.send_keys('Sunglasses')"
   ]
  },
  {
   "cell_type": "code",
   "execution_count": 71,
   "id": "44e978dc",
   "metadata": {},
   "outputs": [],
   "source": [
    "# Clicking the search button\n",
    "search_button = driver.find_element(By.CLASS_NAME, '_2iLD__')\n",
    "search_button.click()"
   ]
  },
  {
   "cell_type": "code",
   "execution_count": 74,
   "id": "0b73c3f0",
   "metadata": {},
   "outputs": [],
   "source": [
    "brands =[]\n",
    "product_descriptions=[]\n",
    "prices=[]\n",
    "discounts=[]\n",
    "\n",
    "\n",
    "# Brands\n",
    "\n",
    "brand = driver.find_elements(By.XPATH, '//div[@class=\"syl9yP\"]')\n",
    "for i in brand:\n",
    "    x = i.text\n",
    "    brands.append(x)\n",
    "    \n",
    "# Product Descriptions\n",
    "\n",
    "product_description = driver.find_elements(By.XPATH, '//a[@class=\"WKTcLC\"]')\n",
    "for i in product_description:\n",
    "    x = i.text\n",
    "    product_descriptions.append(x)\n",
    "    \n",
    "# Prices\n",
    "\n",
    "price = driver.find_elements(By.XPATH, '//div[@class=\"Nx9bqj\"]')\n",
    "for i in price:\n",
    "    x = i.text\n",
    "    prices.append(x)\n",
    "    \n",
    "# Discounts\n",
    "\n",
    "discount = driver.find_elements(By.XPATH, '//div[@class=\"UkUFwK\"]')\n",
    "for i in discount:\n",
    "    x = i.text\n",
    "    discounts.append(x)\n",
    "\n",
    "# Clicking the next button\n",
    "\n",
    "next_button = driver.find_element(By.XPATH, '/html/body/div/div/div[3]/div[1]/div[2]/div[12]/div/div/nav/a[11]')\n",
    "next_button.click()"
   ]
  },
  {
   "cell_type": "code",
   "execution_count": 75,
   "id": "e3a02725",
   "metadata": {},
   "outputs": [],
   "source": [
    "# Brands\n",
    "\n",
    "brand = driver.find_elements(By.XPATH, '//div[@class=\"syl9yP\"]')\n",
    "for i in brand:\n",
    "    x = i.text\n",
    "    brands.append(x)\n",
    "    \n",
    "# Product Descriptions\n",
    "\n",
    "product_description = driver.find_elements(By.XPATH, '//a[@class=\"WKTcLC\"]')\n",
    "for i in product_description:\n",
    "    x = i.text\n",
    "    product_descriptions.append(x)\n",
    "    \n",
    "# Prices\n",
    "\n",
    "price = driver.find_elements(By.XPATH, '//div[@class=\"Nx9bqj\"]')\n",
    "for i in price:\n",
    "    x = i.text\n",
    "    prices.append(x)\n",
    "    \n",
    "# Discounts\n",
    "\n",
    "discount = driver.find_elements(By.XPATH, '//div[@class=\"UkUFwK\"]')\n",
    "for i in discount:\n",
    "    x = i.text\n",
    "    discounts.append(x)\n",
    "    \n",
    "# Clicking the next button    \n",
    "next_button = driver.find_element(By.XPATH, '/html/body/div/div/div[3]/div[1]/div[2]/div[12]/div/div/nav/a[11]')\n",
    "next_button.click()"
   ]
  },
  {
   "cell_type": "code",
   "execution_count": 78,
   "id": "b433b6dc",
   "metadata": {},
   "outputs": [],
   "source": [
    "# Applying if else to break the loops when 100 instances are completed.\n",
    "\n",
    "# Brands\n",
    "\n",
    "brand = driver.find_elements(By.XPATH, '//div[@class=\"syl9yP\"]')\n",
    "for i in brand:\n",
    "    if len(brands)<100:\n",
    "        x = i.text\n",
    "        brands.append(x)\n",
    "    else:\n",
    "        break\n",
    "    \n",
    "# Product Descriptions\n",
    "\n",
    "product_description = driver.find_elements(By.XPATH, '//a[@class=\"WKTcLC\"]')\n",
    "for i in product_description:\n",
    "    if len(product_descriptions)<100:\n",
    "        x = i.text\n",
    "        product_descriptions.append(x)\n",
    "    else:\n",
    "        break\n",
    "    \n",
    "# Prices\n",
    "\n",
    "price = driver.find_elements(By.XPATH, '//div[@class=\"Nx9bqj\"]')\n",
    "for i in price:\n",
    "    if len(prices)<100:\n",
    "        x = i.text\n",
    "        prices.append(x)\n",
    "    else:\n",
    "        break\n",
    "    \n",
    "# Discounts\n",
    "\n",
    "discount = driver.find_elements(By.XPATH, '//div[@class=\"UkUFwK\"]')\n",
    "for i in discount:\n",
    "    if len(discounts)<100:\n",
    "        x = i.text\n",
    "        discounts.append(x)\n",
    "    else:\n",
    "        break"
   ]
  },
  {
   "cell_type": "code",
   "execution_count": 79,
   "id": "8bec226d",
   "metadata": {},
   "outputs": [
    {
     "data": {
      "text/plain": [
       "100"
      ]
     },
     "execution_count": 79,
     "metadata": {},
     "output_type": "execute_result"
    }
   ],
   "source": [
    "len(brands)"
   ]
  },
  {
   "cell_type": "code",
   "execution_count": 80,
   "id": "b21dbf78",
   "metadata": {},
   "outputs": [
    {
     "data": {
      "text/plain": [
       "['john jacobs',\n",
       " 'john jacobs',\n",
       " 'hayden haiza',\n",
       " 'VINCENT CHASE',\n",
       " 'Rich Club',\n",
       " 'Rich Club',\n",
       " 'john jacobs',\n",
       " 'ROYAL SON',\n",
       " 'ROYAL SON',\n",
       " 'BABYMOON',\n",
       " 'VINCENT CHASE',\n",
       " 'Lenskart STUDIO',\n",
       " 'Fastrack',\n",
       " 'Elligator',\n",
       " 'Singco India',\n",
       " 'elegante',\n",
       " 'john jacobs',\n",
       " 'ROZZETTA CRAFT',\n",
       " 'ROZZETTA CRAFT',\n",
       " 'Mast & Harbour',\n",
       " 'john jacobs',\n",
       " 'Eyewearlabs',\n",
       " 'elegante',\n",
       " 'VINCENT CHASE',\n",
       " 'PC STAR',\n",
       " 'Rich Club',\n",
       " 'ROYAL SON',\n",
       " 'VINCENT CHASE',\n",
       " 'POLAROID',\n",
       " 'ROZZETTA CRAFT',\n",
       " 'Hooper',\n",
       " 'john jacobs',\n",
       " 'Fastrack',\n",
       " 'VINCENT CHASE',\n",
       " 'Singco India',\n",
       " 'Fastrack',\n",
       " 'Lenskart STUDIO',\n",
       " 'AISLIN',\n",
       " 'VINCENT CHASE',\n",
       " 'Roadster',\n",
       " 'VINCENT CHASE',\n",
       " 'VINCENT CHASE',\n",
       " 'Roadster',\n",
       " 'ROYAL SON',\n",
       " 'VINCENT CHASE',\n",
       " 'SYGA',\n",
       " 'VINCENT CHASE',\n",
       " 'VINCENT CHASE',\n",
       " 'ROYAL SON',\n",
       " 'Lenskart Hustlr',\n",
       " 'Hooper',\n",
       " 'VINCENT CHASE',\n",
       " 'AISLIN',\n",
       " 'VINCENT CHASE',\n",
       " 'john jacobs',\n",
       " 'IDEE',\n",
       " 'VINCENT CHASE',\n",
       " 'AISLIN',\n",
       " 'Lenskart STUDIO',\n",
       " 'VINCENT CHASE',\n",
       " 'john jacobs',\n",
       " 'VINCENT CHASE',\n",
       " 'PC STAR',\n",
       " 'POLICE',\n",
       " 'Hooper',\n",
       " 'AISLIN',\n",
       " 'AISLIN',\n",
       " 'AISLIN',\n",
       " 'NuVew',\n",
       " 'AISLIN',\n",
       " 'ROYAL SON',\n",
       " 'john jacobs',\n",
       " 'hipe',\n",
       " 'VINCENT CHASE',\n",
       " 'VINCENT CHASE',\n",
       " 'AISLIN',\n",
       " 'ROYAL SON',\n",
       " 'Resist',\n",
       " 'IDEE',\n",
       " 'AISLIN',\n",
       " 'VINCENT CHASE',\n",
       " 'NuVew',\n",
       " 'VINCENT CHASE',\n",
       " 'Ray-Ban',\n",
       " 'john jacobs',\n",
       " 'IDEE',\n",
       " 'VINCENT CHASE',\n",
       " 'ROZZETTA CRAFT',\n",
       " 'john jacobs',\n",
       " 'AISLIN',\n",
       " 'AISLIN',\n",
       " 'ROYAL SON',\n",
       " 'Hooper',\n",
       " 'Hooper',\n",
       " 'FILA',\n",
       " 'john jacobs',\n",
       " 'AISLIN',\n",
       " 'Roadster',\n",
       " 'Hooper',\n",
       " 'VINCENT CHASE']"
      ]
     },
     "execution_count": 80,
     "metadata": {},
     "output_type": "execute_result"
    }
   ],
   "source": [
    "brands"
   ]
  },
  {
   "cell_type": "code",
   "execution_count": 81,
   "id": "83ebb35f",
   "metadata": {},
   "outputs": [
    {
     "data": {
      "text/plain": [
       "100"
      ]
     },
     "execution_count": 81,
     "metadata": {},
     "output_type": "execute_result"
    }
   ],
   "source": [
    "len(product_descriptions)"
   ]
  },
  {
   "cell_type": "code",
   "execution_count": 82,
   "id": "f4fbdbba",
   "metadata": {},
   "outputs": [
    {
     "data": {
      "text/plain": [
       "['UV Protection Wayfarer Sunglasses (53)',\n",
       " 'UV Protection Round Sunglasses (53)',\n",
       " 'UV Protection Rectangular Sunglasses (47)',\n",
       " 'by Lenskart Polarized, UV Protection Wayfarer Sunglasse...',\n",
       " 'UV Protection Wayfarer Sunglasses (52)',\n",
       " 'UV Protection Retro Square Sunglasses (54)',\n",
       " 'Polarized, UV Protection Wayfarer Sunglasses (56)',\n",
       " 'Polarized, UV Protection Retro Square, Over-sized Sungl...',\n",
       " 'Polarized, UV Protection Wayfarer, Retro Square Sunglas...',\n",
       " 'Gradient Round Sunglasses (Free Size)',\n",
       " 'by Lenskart UV Protection Wayfarer Sunglasses (Free Siz...',\n",
       " 'Polarized, UV Protection Rectangular Sunglasses (54)',\n",
       " 'Gradient, UV Protection Wayfarer Sunglasses (Free Size)',\n",
       " 'Riding Glasses, UV Protection Clubmaster, Wayfarer Sung...',\n",
       " 'Polarized, Riding Glasses, Night Vision Sports Sunglass...',\n",
       " 'Polarized, UV Protection Aviator Sunglasses (55)',\n",
       " 'UV Protection, Gradient Butterfly, Shield Sunglasses (6...',\n",
       " 'Polarized, Night Vision, Riding Glasses Sports, Wrap-ar...',\n",
       " 'Gradient Aviator Sunglasses (58)',\n",
       " 'Polarized, UV Protection Retro Square Sunglasses (54)',\n",
       " 'UV Protection Round Sunglasses (Free Size)',\n",
       " 'by Lenskart Polarized, UV Protection Clubmaster Sunglas...',\n",
       " 'UV Protection, Riding Glasses Retro Square Sunglasses (...',\n",
       " 'Polarized Wayfarer Sunglasses (52)',\n",
       " 'UV Protection Wayfarer Sunglasses (54)',\n",
       " 'by Lenskart Polarized, UV Protection Wayfarer Sunglasse...',\n",
       " 'Polarized Oval Sunglasses (57)',\n",
       " 'UV Protection Retro Square Sunglasses (Free Size)',\n",
       " 'UV Protection Wayfarer Sunglasses (47)',\n",
       " 'Polarized, UV Protection Rectangular Sunglasses (61)',\n",
       " 'UV Protection Wayfarer Sunglasses (57)',\n",
       " 'by Lenskart UV Protection Clubmaster Sunglasses (55)',\n",
       " 'UV Protection, Riding Glasses Retro Square, Rectangular...',\n",
       " 'UV Protection Wayfarer Sunglasses (58)',\n",
       " 'Polarized, UV Protection Rectangular Sunglasses (52)',\n",
       " 'Polarized, UV Protection Rectangular, Wayfarer Sunglass...',\n",
       " 'by Lenskart Polarized, UV Protection Round Sunglasses (...',\n",
       " 'UV Protection Wrap-around Sunglasses (57)',\n",
       " 'by Lenskart Polarized, UV Protection Rectangular Sungla...',\n",
       " 'by Lenskart Polarized, UV Protection Wayfarer Sunglasse...',\n",
       " 'UV Protection Wayfarer Sunglasses (53)',\n",
       " 'UV Protection, Polarized Wrap-around, Sports Sunglasses...',\n",
       " 'by Lenskart Polarized, UV Protection Aviator Sunglasses...',\n",
       " 'UV Protection Rectangular Sunglasses (Free Size)',\n",
       " 'by Lenskart Polarized, UV Protection Cat-eye Sunglasses...',\n",
       " 'by Lenskart Polarized, UV Protection Cat-eye Sunglasses...',\n",
       " 'UV Protection, Gradient Butterfly Sunglasses (60)',\n",
       " 'Polarized, UV Protection Wayfarer Sunglasses (49)',\n",
       " 'UV Protection Round Sunglasses (40)',\n",
       " 'by Lenskart Polarized, UV Protection Cat-eye Sunglasses...',\n",
       " 'Toughened Glass Lens, UV Protection Rectangular, Aviato...',\n",
       " 'by Lenskart Polarized, UV Protection Wayfarer Sunglasse...',\n",
       " 'UV Protection Wayfarer Sunglasses (52)',\n",
       " 'Gradient Aviator Sunglasses (59)',\n",
       " 'UV Protection, Gradient Cat-eye, Oval Sunglasses (61)',\n",
       " 'Polarized, UV Protection Sports Sunglasses (55)',\n",
       " 'by Lenskart Polarized, UV Protection Aviator Sunglasses...',\n",
       " 'Polarized, UV Protection Cat-eye Sunglasses (49)',\n",
       " 'by Lenskart Polarized, UV Protection Cat-eye Sunglasses...',\n",
       " 'UV Protection, Riding Glasses Rectangular Sunglasses (F...',\n",
       " 'UV Protection Retro Square Sunglasses (59)',\n",
       " 'UV Protection Wayfarer Sunglasses (47)',\n",
       " 'UV Protection Wayfarer Sunglasses (59)',\n",
       " 'Polarized, UV Protection Aviator Sunglasses (58)',\n",
       " 'Polarized, UV Protection Aviator Sunglasses (56)',\n",
       " 'UV Protection Sports Sunglasses (73)',\n",
       " 'UV Protection, Gradient Wayfarer, Retro Square Sunglass...',\n",
       " 'UV Protection Rectangular Sunglasses (64)',\n",
       " 'UV Protection Wayfarer Sunglasses (54)',\n",
       " 'UV Protection, Mirrored, Gradient Round, Spectacle Sun...',\n",
       " 'by Lenskart UV Protection Wayfarer Sunglasses (57)',\n",
       " 'Toughened Glass Lens, UV Protection Aviator Sunglasses ...',\n",
       " 'Polarized, UV Protection, Gradient Retro Square, Over-s...',\n",
       " 'UV Protection, Toughened Glass Lens, Riding Glasses Ret...',\n",
       " 'Gradient Oval Sunglasses (56)',\n",
       " 'UV Protection, Gradient Butterfly, Wayfarer Sunglasses ...',\n",
       " 'by Lenskart Polarized, UV Protection Cat-eye Sunglasses...',\n",
       " 'Riding Glasses, UV Protection Rectangular Sunglasses (6...',\n",
       " 'Gradient Aviator Sunglasses (58)',\n",
       " 'Gradient Retro Square Sunglasses (56)',\n",
       " 'by Lenskart Polarized, UV Protection Clubmaster Sunglas...',\n",
       " 'UV Protection Wrap-around Sunglasses (Free Size)',\n",
       " 'UV Protection Retro Square Sunglasses (57)',\n",
       " 'UV Protection, Gradient Wayfarer, Wrap-around Sunglasse...',\n",
       " 'UV Protection Retro Square Sunglasses (60)',\n",
       " 'Polarized, UV Protection Wayfarer Sunglasses (46)',\n",
       " 'UV Protection Rectangular Sunglasses (50)',\n",
       " 'Mirrored Retro Square Sunglasses (54)',\n",
       " 'UV Protection Aviator Sunglasses (55)',\n",
       " 'UV Protection, Gradient Retro Square Sunglasses (58)',\n",
       " 'UV Protection Wayfarer, Wrap-around Sunglasses (58)',\n",
       " 'UV Protection Wayfarer Sunglasses (45)',\n",
       " 'by Lenskart Polarized, UV Protection Retro Square Sungl...',\n",
       " 'Polarized, UV Protection Round, Over-sized Sunglasses (...',\n",
       " 'UV Protection Wayfarer Sunglasses (57)',\n",
       " 'Gradient Retro Square Sunglasses (59)',\n",
       " 'UV Protection Sports Sunglasses (Free Size)',\n",
       " 'Gradient Aviator Sunglasses (59)',\n",
       " 'UV Protection, Gradient Butterfly, Wayfarer Sunglasses ...',\n",
       " 'Polarized Rectangular Sunglasses (58)']"
      ]
     },
     "execution_count": 82,
     "metadata": {},
     "output_type": "execute_result"
    }
   ],
   "source": [
    "product_descriptions"
   ]
  },
  {
   "cell_type": "code",
   "execution_count": 83,
   "id": "45d9275a",
   "metadata": {},
   "outputs": [
    {
     "data": {
      "text/plain": [
       "100"
      ]
     },
     "execution_count": 83,
     "metadata": {},
     "output_type": "execute_result"
    }
   ],
   "source": [
    "len(prices)"
   ]
  },
  {
   "cell_type": "code",
   "execution_count": 84,
   "id": "a515435e",
   "metadata": {},
   "outputs": [
    {
     "data": {
      "text/plain": [
       "['₹2,316',\n",
       " '₹2,437',\n",
       " '₹265',\n",
       " '₹499',\n",
       " '₹249',\n",
       " '₹399',\n",
       " '₹2,437',\n",
       " '₹1,139',\n",
       " '₹594',\n",
       " '₹299',\n",
       " '₹1,049',\n",
       " '₹1,750',\n",
       " '₹574',\n",
       " '₹249',\n",
       " '₹357',\n",
       " '₹474',\n",
       " '₹2,200',\n",
       " '₹399',\n",
       " '₹379',\n",
       " '₹194',\n",
       " '₹2,437',\n",
       " '₹1,799',\n",
       " '₹359',\n",
       " '₹1,049',\n",
       " '₹399',\n",
       " '₹251',\n",
       " '₹759',\n",
       " '₹1,049',\n",
       " '₹2,262',\n",
       " '₹419',\n",
       " '₹1,299',\n",
       " '₹2,999',\n",
       " '₹547',\n",
       " '₹818',\n",
       " '₹429',\n",
       " '₹762',\n",
       " '₹1,750',\n",
       " '₹499',\n",
       " '₹806',\n",
       " '₹230',\n",
       " '₹1,154',\n",
       " '₹944',\n",
       " '₹761',\n",
       " '₹849',\n",
       " '₹537',\n",
       " '₹349',\n",
       " '₹1,049',\n",
       " '₹1,049',\n",
       " '₹664',\n",
       " '₹1,500',\n",
       " '₹599',\n",
       " '₹944',\n",
       " '₹645',\n",
       " '₹996',\n",
       " '₹2,375',\n",
       " '₹2,125',\n",
       " '₹1,049',\n",
       " '₹412',\n",
       " '₹1,799',\n",
       " '₹596',\n",
       " '₹3,499',\n",
       " '₹1,154',\n",
       " '₹389',\n",
       " '₹8,450',\n",
       " '₹699',\n",
       " '₹755',\n",
       " '₹516',\n",
       " '₹613',\n",
       " '₹315',\n",
       " '₹755',\n",
       " '₹664',\n",
       " '₹3,499',\n",
       " '₹259',\n",
       " '₹786',\n",
       " '₹622',\n",
       " '₹845',\n",
       " '₹1,139',\n",
       " '₹1,498',\n",
       " '₹1,054',\n",
       " '₹449',\n",
       " '₹1,154',\n",
       " '₹198',\n",
       " '₹599',\n",
       " '₹7,639',\n",
       " '₹2,499',\n",
       " '₹1,790',\n",
       " '₹944',\n",
       " '₹399',\n",
       " '₹1,559',\n",
       " '₹428',\n",
       " '₹617',\n",
       " '₹569',\n",
       " '₹699',\n",
       " '₹699',\n",
       " '₹1,250',\n",
       " '₹2,437',\n",
       " '₹418',\n",
       " '₹761',\n",
       " '₹699',\n",
       " '₹1,101']"
      ]
     },
     "execution_count": 84,
     "metadata": {},
     "output_type": "execute_result"
    }
   ],
   "source": [
    "prices"
   ]
  },
  {
   "cell_type": "code",
   "execution_count": 85,
   "id": "54577133",
   "metadata": {},
   "outputs": [
    {
     "data": {
      "text/plain": [
       "100"
      ]
     },
     "execution_count": 85,
     "metadata": {},
     "output_type": "execute_result"
    }
   ],
   "source": [
    "len(discounts)"
   ]
  },
  {
   "cell_type": "code",
   "execution_count": 86,
   "id": "14b6bb56",
   "metadata": {},
   "outputs": [
    {
     "data": {
      "text/plain": [
       "['61% off',\n",
       " '45% off',\n",
       " '84% off',\n",
       " '75% off',\n",
       " '75% off',\n",
       " '69% off',\n",
       " '45% off',\n",
       " '54% off',\n",
       " '70% off',\n",
       " '60% off',\n",
       " '47% off',\n",
       " '50% off',\n",
       " '47% off',\n",
       " '90% off',\n",
       " '82% off',\n",
       " '79% off',\n",
       " '51% off',\n",
       " '85% off',\n",
       " '81% off',\n",
       " '77% off',\n",
       " '45% off',\n",
       " '50% off',\n",
       " '82% off',\n",
       " '47% off',\n",
       " '80% off',\n",
       " '74% off',\n",
       " '62% off',\n",
       " '47% off',\n",
       " '57% off',\n",
       " '81% off',\n",
       " '35% off',\n",
       " '50% off',\n",
       " '45% off',\n",
       " '67% off',\n",
       " '82% off',\n",
       " '45% off',\n",
       " '50% off',\n",
       " '80% off',\n",
       " '59% off',\n",
       " '79% off',\n",
       " '42% off',\n",
       " '52% off',\n",
       " '74% off',\n",
       " '57% off',\n",
       " '73% off',\n",
       " '72% off',\n",
       " '47% off',\n",
       " '47% off',\n",
       " '66% off',\n",
       " '57% off',\n",
       " '70% off',\n",
       " '52% off',\n",
       " '82% off',\n",
       " '50% off',\n",
       " '60% off',\n",
       " '50% off',\n",
       " '47% off',\n",
       " '75% off',\n",
       " '48% off',\n",
       " '70% off',\n",
       " '41% off',\n",
       " '42% off',\n",
       " '61% off',\n",
       " '50% off',\n",
       " '65% off',\n",
       " '73% off',\n",
       " '78% off',\n",
       " '72% off',\n",
       " '74% off',\n",
       " '73% off',\n",
       " '66% off',\n",
       " '41% off',\n",
       " '82% off',\n",
       " '60% off',\n",
       " '68% off',\n",
       " '77% off',\n",
       " '54% off',\n",
       " '70% off',\n",
       " '68% off',\n",
       " '70% off',\n",
       " '42% off',\n",
       " '73% off',\n",
       " '70% off',\n",
       " '10% off',\n",
       " '58% off',\n",
       " '50% off',\n",
       " '52% off',\n",
       " '80% off',\n",
       " '74% off',\n",
       " '71% off',\n",
       " '74% off',\n",
       " '71% off',\n",
       " '65% off',\n",
       " '65% off',\n",
       " '68% off',\n",
       " '59% off',\n",
       " '72% off',\n",
       " '74% off',\n",
       " '65% off',\n",
       " '44% off']"
      ]
     },
     "execution_count": 86,
     "metadata": {},
     "output_type": "execute_result"
    }
   ],
   "source": [
    "discounts"
   ]
  },
  {
   "cell_type": "code",
   "execution_count": null,
   "id": "a788abc4",
   "metadata": {},
   "outputs": [],
   "source": []
  },
  {
   "cell_type": "code",
   "execution_count": null,
   "id": "82ef4719",
   "metadata": {},
   "outputs": [],
   "source": []
  }
 ],
 "metadata": {
  "kernelspec": {
   "display_name": "Python 3 (ipykernel)",
   "language": "python",
   "name": "python3"
  },
  "language_info": {
   "codemirror_mode": {
    "name": "ipython",
    "version": 3
   },
   "file_extension": ".py",
   "mimetype": "text/x-python",
   "name": "python",
   "nbconvert_exporter": "python",
   "pygments_lexer": "ipython3",
   "version": "3.9.12"
  }
 },
 "nbformat": 4,
 "nbformat_minor": 5
}
